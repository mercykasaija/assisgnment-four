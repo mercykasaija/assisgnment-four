{
 "cells": [
  {
   "cell_type": "code",
   "execution_count": 2,
   "metadata": {
    "_cell_guid": "b1076dfc-b9ad-4769-8c92-a6c4dae69d19",
    "_uuid": "8f2839f25d086af736a60e9eeb907d3b93b6e0e5",
    "id": "bh5oqVi6ZHSJ"
   },
   "outputs": [],
   "source": [
    "# Basic Libraries\n",
    "import numpy as np\n",
    "import pandas as pd\n",
    "import operator\n",
    "import re\n",
    "import warnings\n",
    "warnings.filterwarnings(\"ignore\")\n",
    "warnings.simplefilter(\"ignore\")\n",
    "\n",
    "# Visualization\n",
    "import matplotlib.pyplot as plt\n",
    "import seaborn as sns\n",
    "from scipy import stats\n",
    "\n",
    "# Preprocessing\n",
    "from sklearn.preprocessing import LabelEncoder, MinMaxScaler \n",
    "from sklearn.pipeline import _name_estimators\n",
    "from sklearn.base import BaseEstimator\n",
    "from sklearn.base import ClassifierMixin\n",
    "from sklearn.base import clone\n",
    "#from sklearn.externals import six\n",
    "\n",
    "# Evaluation\n",
    "from sklearn import metrics\n",
    "from sklearn import linear_model, datasets \n",
    "from sklearn.metrics import accuracy_score, log_loss\n",
    "from sklearn.metrics import confusion_matrix \n",
    "from sklearn.model_selection import StratifiedShuffleSplit\n",
    "from sklearn.model_selection import train_test_split, cross_val_score \n",
    "from sklearn.neighbors import LocalOutlierFactor\n",
    "\n",
    "# Classifier (machine learning algorithm) \n",
    "from sklearn.neighbors import KNeighborsClassifier\n",
    "from sklearn.svm import SVC, LinearSVC\n",
    "from sklearn.tree import DecisionTreeClassifier\n",
    "from sklearn.ensemble import RandomForestRegressor, RandomForestClassifier\n",
    "from sklearn.ensemble import AdaBoostClassifier, GradientBoostingClassifier\n",
    "from sklearn.ensemble import BaggingClassifier\n",
    "from sklearn.naive_bayes import GaussianNB\n",
    "from sklearn.discriminant_analysis import LinearDiscriminantAnalysis, QuadraticDiscriminantAnalysis\n",
    "from sklearn.linear_model import LogisticRegression\n",
    "from sklearn.linear_model import Perceptron\n",
    "from sklearn.linear_model import SGDClassifier\n",
    "from sklearn.neural_network import MLPClassifier\n",
    "\n",
    "from sklearn.base import BaseEstimator\n",
    "from sklearn.base import ClassifierMixin\n",
    "#from sklearn.externals import six\n",
    "from sklearn.base import clone\n",
    "from sklearn.pipeline import _name_estimators"
   ]
  },
  {
   "cell_type": "code",
   "execution_count": 3,
   "metadata": {
    "_uuid": "f304af2117dc099251a244a69ce55d7f9f3e52b3",
    "id": "w4MJvisUaRxG"
   },
   "outputs": [],
   "source": [
    "dataset = pd.read_csv('banking_churn.csv', header = 0)"
   ]
  },
  {
   "cell_type": "code",
   "execution_count": 4,
   "metadata": {
    "_uuid": "4b6381bdc007ea7d08e2d78c1120f9ce851f146d",
    "colab": {
     "base_uri": "https://localhost:8080/",
     "height": 270
    },
    "id": "QPLh07YbaSUo",
    "outputId": "8a3e2dca-60fa-4270-cf56-8a759911e779"
   },
   "outputs": [
    {
     "data": {
      "text/html": [
       "<div>\n",
       "<style scoped>\n",
       "    .dataframe tbody tr th:only-of-type {\n",
       "        vertical-align: middle;\n",
       "    }\n",
       "\n",
       "    .dataframe tbody tr th {\n",
       "        vertical-align: top;\n",
       "    }\n",
       "\n",
       "    .dataframe thead th {\n",
       "        text-align: right;\n",
       "    }\n",
       "</style>\n",
       "<table border=\"1\" class=\"dataframe\">\n",
       "  <thead>\n",
       "    <tr style=\"text-align: right;\">\n",
       "      <th></th>\n",
       "      <th>RowNumber</th>\n",
       "      <th>CustomerId</th>\n",
       "      <th>Surname</th>\n",
       "      <th>CreditScore</th>\n",
       "      <th>Geography</th>\n",
       "      <th>Gender</th>\n",
       "      <th>Age</th>\n",
       "      <th>Tenure</th>\n",
       "      <th>Balance</th>\n",
       "      <th>NumOfProducts</th>\n",
       "      <th>HasCrCard</th>\n",
       "      <th>IsActiveMember</th>\n",
       "      <th>EstimatedSalary</th>\n",
       "      <th>Exited</th>\n",
       "    </tr>\n",
       "  </thead>\n",
       "  <tbody>\n",
       "    <tr>\n",
       "      <th>0</th>\n",
       "      <td>1</td>\n",
       "      <td>15634602</td>\n",
       "      <td>Hargrave</td>\n",
       "      <td>619</td>\n",
       "      <td>France</td>\n",
       "      <td>Female</td>\n",
       "      <td>42</td>\n",
       "      <td>2</td>\n",
       "      <td>0.00</td>\n",
       "      <td>1</td>\n",
       "      <td>1</td>\n",
       "      <td>1</td>\n",
       "      <td>101348.88</td>\n",
       "      <td>1</td>\n",
       "    </tr>\n",
       "    <tr>\n",
       "      <th>1</th>\n",
       "      <td>2</td>\n",
       "      <td>15647311</td>\n",
       "      <td>Hill</td>\n",
       "      <td>608</td>\n",
       "      <td>Spain</td>\n",
       "      <td>Female</td>\n",
       "      <td>41</td>\n",
       "      <td>1</td>\n",
       "      <td>83807.86</td>\n",
       "      <td>1</td>\n",
       "      <td>0</td>\n",
       "      <td>1</td>\n",
       "      <td>112542.58</td>\n",
       "      <td>0</td>\n",
       "    </tr>\n",
       "    <tr>\n",
       "      <th>2</th>\n",
       "      <td>3</td>\n",
       "      <td>15619304</td>\n",
       "      <td>Onio</td>\n",
       "      <td>502</td>\n",
       "      <td>France</td>\n",
       "      <td>Female</td>\n",
       "      <td>42</td>\n",
       "      <td>8</td>\n",
       "      <td>159660.80</td>\n",
       "      <td>3</td>\n",
       "      <td>1</td>\n",
       "      <td>0</td>\n",
       "      <td>113931.57</td>\n",
       "      <td>1</td>\n",
       "    </tr>\n",
       "    <tr>\n",
       "      <th>3</th>\n",
       "      <td>4</td>\n",
       "      <td>15701354</td>\n",
       "      <td>Boni</td>\n",
       "      <td>699</td>\n",
       "      <td>France</td>\n",
       "      <td>Female</td>\n",
       "      <td>39</td>\n",
       "      <td>1</td>\n",
       "      <td>0.00</td>\n",
       "      <td>2</td>\n",
       "      <td>0</td>\n",
       "      <td>0</td>\n",
       "      <td>93826.63</td>\n",
       "      <td>0</td>\n",
       "    </tr>\n",
       "    <tr>\n",
       "      <th>4</th>\n",
       "      <td>5</td>\n",
       "      <td>15737888</td>\n",
       "      <td>Mitchell</td>\n",
       "      <td>850</td>\n",
       "      <td>Spain</td>\n",
       "      <td>Female</td>\n",
       "      <td>43</td>\n",
       "      <td>2</td>\n",
       "      <td>125510.82</td>\n",
       "      <td>1</td>\n",
       "      <td>1</td>\n",
       "      <td>1</td>\n",
       "      <td>79084.10</td>\n",
       "      <td>0</td>\n",
       "    </tr>\n",
       "  </tbody>\n",
       "</table>\n",
       "</div>"
      ],
      "text/plain": [
       "   RowNumber  CustomerId   Surname  CreditScore Geography  Gender  Age  \\\n",
       "0          1    15634602  Hargrave          619    France  Female   42   \n",
       "1          2    15647311      Hill          608     Spain  Female   41   \n",
       "2          3    15619304      Onio          502    France  Female   42   \n",
       "3          4    15701354      Boni          699    France  Female   39   \n",
       "4          5    15737888  Mitchell          850     Spain  Female   43   \n",
       "\n",
       "   Tenure    Balance  NumOfProducts  HasCrCard  IsActiveMember  \\\n",
       "0       2       0.00              1          1               1   \n",
       "1       1   83807.86              1          0               1   \n",
       "2       8  159660.80              3          1               0   \n",
       "3       1       0.00              2          0               0   \n",
       "4       2  125510.82              1          1               1   \n",
       "\n",
       "   EstimatedSalary  Exited  \n",
       "0        101348.88       1  \n",
       "1        112542.58       0  \n",
       "2        113931.57       1  \n",
       "3         93826.63       0  \n",
       "4         79084.10       0  "
      ]
     },
     "execution_count": 4,
     "metadata": {},
     "output_type": "execute_result"
    }
   ],
   "source": [
    "# Tmp data\n",
    "dataset_tmp = dataset.copy()\n",
    "dataset_tmp.head()"
   ]
  },
  {
   "cell_type": "markdown",
   "metadata": {
    "_uuid": "b824c56132e97c261f857b8251aa6a1b0d89bc4b",
    "id": "R0vB-osXZHSO"
   },
   "source": [
    "# Functions"
   ]
  },
  {
   "cell_type": "code",
   "execution_count": 59,
   "metadata": {
    "_uuid": "aac9ab3647f908d8cdbec972292be55222b0dd6e",
    "id": "Q15enQB2ZHSP"
   },
   "outputs": [],
   "source": [
    "class MajorityVoteClassifier(BaseEstimator, ClassifierMixin):\n",
    "    def __init__(self, classifiers, vote='classlabel', weights=None):\n",
    "        self.classifiers = classifiers\n",
    "        self.named_classifiers = {key: value for key, value in _name_estimators(classifiers)}\n",
    "        self.vote = vote\n",
    "        self.weights = weights\n",
    "    def fit(self, X, y):\n",
    "        if self.vote not in ('probability', 'classlabel'):\n",
    "            raise ValueError(\"vote must be 'probability' or 'classlabel'\" \"; got (vote=%r)\" % self.vote)\n",
    "        if self.weights and len(self.weights) != len(self.classifiers):\n",
    "            raise ValueError('Number of classifiers and weights must be equal''; got %d weights, %d classifiers' %   \n",
    "            (len(self.weights), len(self.classifiers)))\n",
    "        # Use LabelEncoder to ensure class labels start with 0, which is important for np.argmax call in self.predict\n",
    "        self.lablenc_ = LabelEncoder()\n",
    "        self.lablenc_.fit(y)\n",
    "        self.classes_ = self.lablenc_.classes_\n",
    "        self.classifiers_ = []\n",
    "        for clf in self.classifiers:\n",
    "            fitted_clf = clone(clf).fit(X, self.lablenc_.transform(y))\n",
    "            self.classifiers_.append(fitted_clf)\n",
    "        return self\n",
    "    def predict(self, X):\n",
    "        if self.vote == 'probability':\n",
    "            maj_vote = np.argmax(self.predict_proba(X), axis=1)\n",
    "        else:  # 'classlabel' vote\n",
    "            #  Collect results from clf.predict calls\n",
    "            predictions = np.asarray([clf.predict(X) for clf in self.classifiers_]).T\n",
    "            maj_vote = np.apply_along_axis( lambda x: np.argmax(np.bincount(x, weights=self.weights)),\n",
    "                                      axis=1,\n",
    "                                      arr=predictions)\n",
    "        maj_vote = self.lablenc_.inverse_transform(maj_vote)\n",
    "        return maj_vote\n",
    "    def predict_proba(self, X):\n",
    "        probas = np.asarray([clf.predict_proba(X)  for clf in self.classifiers_])\n",
    "        avg_proba = np.average(probas, axis=0, weights=self.weights)\n",
    "        return avg_proba\n",
    "    def get_params(self, deep=True):\n",
    "        if not deep:\n",
    "            return super(MajorityVoteClassifier, self).get_params(deep=False)\n",
    "        else:\n",
    "            out = self.named_classifiers.copy()\n",
    "            for name, step in six.iteritems(self.named_classifiers):\n",
    "                for key, value in six.iteritems(step.get_params(deep=True)):\n",
    "                    out['%s__%s' % (name, key)] = value\n",
    "            return out\n",
    "\n",
    "# Split Train and Test and check shape \n",
    "def SplitDataFrameToTrainAndTest(DataFrame, TrainDataRate, TargetAtt):\n",
    "    # gets a random TrainDataRate % of the entire set\n",
    "    training = DataFrame.sample(frac=TrainDataRate, random_state=1)\n",
    "    # gets the left out portion of the dataset\n",
    "    testing = DataFrame.loc[~DataFrame.index.isin(training.index)]\n",
    "\n",
    "    X_train = training.drop(TargetAtt, 1)\n",
    "    y_train = training[[TargetAtt]]\n",
    "    X_test = testing.drop(TargetAtt, 1)\n",
    "    y_test = testing[[TargetAtt]]\n",
    "    return X_train, y_train, X_test, y_test\n",
    "    \n",
    "def PrintTrainTestInformation(X_train, y_train, X_test, y_test):\n",
    "    print(\"Train rows and columns : \", X_train.shape)\n",
    "    print(\"Test rows and columns : \", X_test.shape)\n",
    "\n",
    "def DrawJointPlot(DataFrame, XAtt, yAtt, bins = 20):\n",
    "    sns.set(color_codes=True)\n",
    "    sns.distplot(data[XAtt], bins=bins);\n",
    "    df = pd.DataFrame(DataFrame, columns=[XAtt,yAtt])\n",
    "    df = df.reset_index(drop=True)\n",
    "    sns.jointplot(x=XAtt, y=yAtt, data=df)\n",
    "    \n",
    "def DrawBoxplot2(DataFrame, xAtt, yAtt, hAtt=\"N/A\"):\n",
    "    plt.figure()\n",
    "    if(hAtt == \"N/A\"):\n",
    "        sns.boxplot(x=xAtt, y=yAtt,  data=DataFrame)\n",
    "    else:\n",
    "        sns.boxplot(x=xAtt, y=yAtt,  hue=hAtt,  data=DataFrame)\n",
    "    plt.show()\n",
    "    \n",
    "def DrawBarplot(DataFrame, att):\n",
    "    Distribution = DataFrame[att].value_counts()\n",
    "    Distribution = pd.DataFrame({att:Distribution.index, 'Freq':Distribution.values})\n",
    "    Distribution = Distribution.sort_values(by=att, ascending=True)\n",
    "    plt.bar(Distribution[att], Distribution[\"Freq\"])\n",
    "    plt.xticks(Distribution[att])\n",
    "    plt.ylabel('Frequency')\n",
    "    plt.title('Barplot of ' + att)\n",
    "    plt.show()   \n",
    "    \n",
    "def DrawCountplot(DataFrame, att, hatt=\"N/A\"):\n",
    "    if(hatt == \"N/A\"):\n",
    "        sns.countplot(x=att, data=DataFrame)\n",
    "    else:\n",
    "        sns.countplot(x=att, hue=hatt, data=DataFrame)\n",
    "    plt.show()\n",
    "    \n",
    "def DrawHistogram(DataFrame, att):\n",
    "    plt.figure()\n",
    "    DataFrame[att].hist(edgecolor='black', bins=20)\n",
    "    plt.title(att)\n",
    "    plt.show()\n",
    "    \n",
    "# Detect outlier in each feature\n",
    "def DetectOutlierByIQR(DataFrame, AttList, Rate = 3.0):\n",
    "    OutlierIdx = []\n",
    "    for att in AttList:\n",
    "        AttData = DataFrame.loc[:, att]\n",
    "        lowerq = AttData.quantile(0.25)\n",
    "        upperq = AttData.quantile(0.75)\n",
    "        IQR = upperq - lowerq\n",
    "        threshold_upper = (IQR * Rate) + upperq\n",
    "        threshold_lower = lowerq - (IQR * Rate)\n",
    "        AttOutlierIdx = set(AttData[AttData.apply(lambda x: x > threshold_upper\n",
    "                                                    or x < threshold_lower)].index.get_values())\n",
    "        OutlierIdx = set(OutlierIdx) | AttOutlierIdx\n",
    "    \n",
    "\n",
    "    OutlierIdx = list(OutlierIdx)\n",
    "    OutlierIdx = sorted(OutlierIdx)\n",
    "    return OutlierIdx\n",
    "      \n",
    "# Detect outlier in group features\n",
    "def DetectOutlierByLOF(DataFrame, AttList, LOFThresh=3.0, neighbors = 10):\n",
    "    clf = LocalOutlierFactor(n_neighbors=neighbors)\n",
    "    AttData = DataFrame.loc[:, AttList].values\n",
    "    y_pred = clf.fit_predict(AttData)\n",
    "    AttData_scores = -1 * clf.negative_outlier_factor_\n",
    "    LOFFactorData = pd.DataFrame(AttData_scores, columns=['LOF'])\n",
    "    LOFFactorData = LOFFactorData.sort_values('LOF', ascending=False)\n",
    "    LOFFactorData = LOFFactorData.reset_index(drop=False)\n",
    "    # print(LOFFactorData.loc[0:10, :])\n",
    "    OutlierThreshold = LOFThresh\n",
    "    SuspectOutlierData = LOFFactorData[LOFFactorData['LOF'].apply(lambda x: x > OutlierThreshold)]\n",
    "    OutlierIdx = SuspectOutlierData.loc[:, 'index'].tolist()\n",
    "    # print(\"OutlierIdx : \" + str(OutlierIdx))\n",
    "    return OutlierIdx, LOFFactorData\n",
    "      \n",
    "def RemoveRowsFromDataFrame(DataFrame, RowIdxList = []):\n",
    "    DataFrame = DataFrame.drop(RowIdxList)\n",
    "    DataFrame = DataFrame.reset_index(drop=True)\n",
    "    return DataFrame\n",
    "\n",
    "def NaiveBayesLearning(DataTrain, TargetTrain):\n",
    "    NBModel = GaussianNB()\n",
    "    NBModel.fit(DataTrain, TargetTrain.values.ravel())\n",
    "    return NBModel\n",
    "\n",
    "def NaiveBayesTesting(NBModel,DataTest, TargetTest):\n",
    "    PredictTest = NBModel.predict(DataTest)\n",
    "    Accuracy = accuracy_score(TargetTest, PredictTest)\n",
    "    return Accuracy, PredictTest\n",
    "\n",
    "def LogisticRegressionLearning(DataTrain, TargetTrain):\n",
    "    logreg = LogisticRegression()\n",
    "    # Training by Logistic Regression\n",
    "    logreg.fit(DataTrain, TargetTrain.values.ravel())\n",
    "    return logreg\n",
    "\n",
    "def LogisticRegressionTesting(LRModel,DataTest, TargetTest):\n",
    "    logreg = LRModel\n",
    "    PredictTest = logreg.predict(DataTest)\n",
    "    Accuracy = accuracy_score(TargetTest, PredictTest)\n",
    "    # print('Logistic regression accuracy: {:.3f}'.format(Accuracy))\n",
    "    return Accuracy, PredictTest\n",
    "\n",
    "def RandomForestLearning(DataTrain, TargetTrain):\n",
    "    rf = RandomForestClassifier()\n",
    "    rf.fit(DataTrain, TargetTrain.values.ravel())\n",
    "    return rf\n",
    "\n",
    "def RandomForestTesting(RFModel,DataTest, TargetTest):\n",
    "    PredictTest = RFModel.predict(DataTest)\n",
    "    Accuracy = accuracy_score(TargetTest, PredictTest)\n",
    "    # print('Random Forest Accuracy: {:.3f}'.format(accuracy_score(TargetTest, PredictTest)))\n",
    "    return Accuracy, PredictTest\n",
    "\n",
    "def SVMLearning(DataTrain, TargetTrain, ClassifierType = \" \"):\n",
    "    if(ClassifierType == 'Linear'):\n",
    "        svc = SVC(kernel=\"linear\", C=0.025)\n",
    "        # print('SVM Linear processing')\n",
    "    # Radial basis function kernel\n",
    "    elif (ClassifierType == 'RBF'):\n",
    "        svc = SVC(gamma=2, C=1)\n",
    "        # print('SVM RBF processing')\n",
    "    else:\n",
    "        svc = SVC()\n",
    "        # print('SVM Default processing')\n",
    "    svc.fit(DataTrain, TargetTrain.values.ravel())\n",
    "    return svc\n",
    "\n",
    "def SVMTesting(SVMModel, DataTest, TargetTest):\n",
    "    PredictTest = SVMModel.predict(DataTest)\n",
    "    Accuracy = accuracy_score(TargetTest, PredictTest)\n",
    "    # print('Support Vector Machine Accuracy: {:.3f}'.format(accuracy_score(TargetTest, PredictTest)))\n",
    "    return Accuracy, PredictTest\n",
    "\n",
    "def KNNLearning(DataTrain, TargetTrain, K = 3):\n",
    "    neigh = KNeighborsClassifier(n_neighbors=K)\n",
    "    neigh.fit(DataTrain, TargetTrain.values.ravel())\n",
    "    return neigh\n",
    "\n",
    "def KNNTesting(KNNModel,DataTest, TargetTest):\n",
    "    PredictTest = KNNModel.predict(DataTest)\n",
    "    Accuracy = accuracy_score(TargetTest, PredictTest)\n",
    "    # print('KNN Accuracy: {:.3f}'.format(accuracy_score(TargetTest, PredictTest)))\n",
    "    return Accuracy, PredictTest\n",
    "\n",
    "def ANNLearning(DataTrain, TargetTrain):\n",
    "    ANNModel = MLPClassifier(alpha=1)\n",
    "    ANNModel.fit(DataTrain, TargetTrain.values.ravel())\n",
    "    return ANNModel\n",
    "\n",
    "def ANNTesting (ANNModel, DataTest, TargetTest):\n",
    "    PredictTest = ANNModel.predict(DataTest)\n",
    "    Accuracy = accuracy_score(TargetTest, PredictTest)\n",
    "    # print('Neural Net Accuracy: {:.3f}'.format(Accuracy))\n",
    "    return Accuracy, PredictTest\n",
    "\n",
    "# Continuous Data Plot\n",
    "def ContPlot(df, feature_name, target_name, palettemap, hue_order, feature_scale): \n",
    "    df['Counts'] = \"\" # A trick to skip using an axis (either x or y) on splitting violinplot\n",
    "    fig, [axis0,axis1] = plt.subplots(1,2,figsize=(10,5))\n",
    "    sns.distplot(df[feature_name], ax=axis0);\n",
    "    sns.violinplot(x=feature_name, y=\"Counts\", hue=target_name, hue_order=hue_order, data=df,\n",
    "                   palette=palettemap, split=True, orient='h', ax=axis1)\n",
    "    axis1.set_xticks(feature_scale)\n",
    "    plt.show()\n",
    "\n",
    "# Categorical/Ordinal Data Plot\n",
    "def CatPlot(df, feature_name, target_name, palettemap): \n",
    "    fig, [axis0,axis1] = plt.subplots(1,2,figsize=(10,5))\n",
    "    df[feature_name].value_counts().plot.pie(autopct='%1.1f%%',ax=axis0)\n",
    "    sns.countplot(x=feature_name, hue=target_name, data=df,\n",
    "                  palette=palettemap,ax=axis1)\n",
    "    plt.show()\n",
    "\n",
    "def MachineLearningModelEvaluate(X_train, y_train, X_test, y_test):\n",
    "    NBModel = NaiveBayesLearning(X_train, y_train)\n",
    "    NBAccuracy,NBPredictTest = NaiveBayesTesting(NBModel,X_test, y_test)\n",
    "    print('Naive Bayes accuracy: {:.3f}'.format(NBAccuracy))\n",
    "\n",
    "    LRModel = LogisticRegressionLearning(X_train, y_train)\n",
    "    LRAccuracy,LRPredictTest = LogisticRegressionTesting(LRModel,X_test, y_test)\n",
    "    print('Logistic Regression accuracy: {:.3f}'.format(LRAccuracy))\n",
    "\n",
    "    RFModel = RandomForestLearning(X_train, y_train)\n",
    "    RFAccuracy,RFPredictTest = RandomForestTesting(RFModel,X_test, y_test)\n",
    "    print('Random Forest accuracy: {:.6f}'.format(RFAccuracy))\n",
    "\n",
    "    LiSVMModel = SVMLearning(X_train, y_train)\n",
    "    LiSVMAccuracy,LiSVMPredictTest = SVMTesting(LiSVMModel, X_test, y_test)\n",
    "    print('Linear SVM accuracy: {:.6f}'.format(LiSVMAccuracy))\n",
    "\n",
    "    RBFSVMModel = SVMLearning(X_train, y_train, 'RBF')\n",
    "    RBFSVMAccuracy,RBFSVMPredictTest = SVMTesting(RBFSVMModel, X_test, y_test)\n",
    "    print('RBF SVM accuracy: {:.6f}'.format(RBFSVMAccuracy))\n",
    "\n",
    "    KNNModel = KNNLearning(X_train, y_train)\n",
    "    KNNAccuracy,KNNPredictTest = KNNTesting(KNNModel,X_test, y_test)\n",
    "    print('K Nearest Neighbor accuracy: {:.6f}'.format(KNNAccuracy))\n",
    "\n",
    "    ANNModel = ANNLearning(X_train, y_train)\n",
    "    ANNAccuracy, ANNPredictTest = ANNTesting(ANNModel, X_test, y_test)\n",
    "    print('ANN accuracy: {:.6f}'.format(ANNAccuracy))\n",
    "    "
   ]
  },
  {
   "cell_type": "code",
   "execution_count": 60,
   "metadata": {
    "_uuid": "151176af8c354e451952c7085031aaff6c0633f2",
    "colab": {
     "base_uri": "https://localhost:8080/"
    },
    "id": "VTvGMLXBZHSS",
    "outputId": "51249cc7-c7cb-4032-e0f8-f4a82ca06cbf"
   },
   "outputs": [
    {
     "data": {
      "text/plain": [
       "RowNumber          0.0\n",
       "CustomerId         0.0\n",
       "Surname            0.0\n",
       "CreditScore        0.0\n",
       "Geography          0.0\n",
       "Gender             0.0\n",
       "Age                0.0\n",
       "Tenure             0.0\n",
       "Balance            0.0\n",
       "NumOfProducts      0.0\n",
       "HasCrCard          0.0\n",
       "IsActiveMember     0.0\n",
       "EstimatedSalary    0.0\n",
       "Exited             0.0\n",
       "dtype: float64"
      ]
     },
     "execution_count": 60,
     "metadata": {},
     "output_type": "execute_result"
    }
   ],
   "source": [
    "# Checking the percentage of missing values in each variable\n",
    "(dataset.isnull().sum()/len(dataset)*100)"
   ]
  },
  {
   "cell_type": "markdown",
   "metadata": {
    "_uuid": "8218d1b07a12fecc8f92b86656a5e03b687d381f",
    "id": "Jht0fkncZHSU"
   },
   "source": [
    "## **Preparation and EDA**"
   ]
  },
  {
   "cell_type": "code",
   "execution_count": 61,
   "metadata": {
    "_uuid": "479d9687af231bc925b1afe28a93c84e58279594",
    "colab": {
     "base_uri": "https://localhost:8080/"
    },
    "id": "8yN97lRVZHSU",
    "outputId": "4af55e73-6791-4c46-d9f5-77b6e392ced5"
   },
   "outputs": [
    {
     "name": "stdout",
     "output_type": "stream",
     "text": [
      "Train rows and columns :  (6000, 13)\n",
      "Test rows and columns :  (4000, 13)\n"
     ]
    }
   ],
   "source": [
    "# Split Train and Test and check shape \n",
    "data_train, target_train, data_test, target_test = SplitDataFrameToTrainAndTest(dataset, 0.6, 'Exited')\n",
    "PrintTrainTestInformation(data_train, target_train, data_test, target_test)"
   ]
  },
  {
   "cell_type": "code",
   "execution_count": 62,
   "metadata": {
    "_uuid": "9be4b0f93e7204856a7bcc6564a3a694d57d4819",
    "colab": {
     "base_uri": "https://localhost:8080/"
    },
    "id": "PgtI94QHZHSX",
    "inputHidden": false,
    "outputHidden": false,
    "outputId": "6b42ded3-d306-4a8d-ae48-62dd60e51913"
   },
   "outputs": [
    {
     "name": "stdout",
     "output_type": "stream",
     "text": [
      "<class 'pandas.core.frame.DataFrame'>\n",
      "Int64Index: 6000 entries, 9953 to 2374\n",
      "Data columns (total 13 columns):\n",
      " #   Column           Non-Null Count  Dtype  \n",
      "---  ------           --------------  -----  \n",
      " 0   RowNumber        6000 non-null   int64  \n",
      " 1   CustomerId       6000 non-null   int64  \n",
      " 2   Surname          6000 non-null   object \n",
      " 3   CreditScore      6000 non-null   int64  \n",
      " 4   Geography        6000 non-null   object \n",
      " 5   Gender           6000 non-null   object \n",
      " 6   Age              6000 non-null   int64  \n",
      " 7   Tenure           6000 non-null   int64  \n",
      " 8   Balance          6000 non-null   float64\n",
      " 9   NumOfProducts    6000 non-null   int64  \n",
      " 10  HasCrCard        6000 non-null   int64  \n",
      " 11  IsActiveMember   6000 non-null   int64  \n",
      " 12  EstimatedSalary  6000 non-null   float64\n",
      "dtypes: float64(2), int64(8), object(3)\n",
      "memory usage: 656.2+ KB\n"
     ]
    }
   ],
   "source": [
    "# Check column types\n",
    "data_train.info()"
   ]
  },
  {
   "cell_type": "code",
   "execution_count": 63,
   "metadata": {
    "_uuid": "cec8a3a0802480774ba701671b65866e93c5a96e",
    "colab": {
     "base_uri": "https://localhost:8080/"
    },
    "id": "EOoYFMYyZHSa",
    "inputHidden": false,
    "outputHidden": false,
    "outputId": "4dad8712-ba13-4153-dbda-e0d3cf7122f0"
   },
   "outputs": [
    {
     "name": "stdout",
     "output_type": "stream",
     "text": [
      " List of unique values in Surname : \n",
      "['Hargrave' 'Hill' 'Onio' ... 'Kashiwagi' 'Aldridge' 'Burbidge']\n",
      " List of unique values in Geography : \n",
      "['France' 'Spain' 'Germany']\n",
      " List of unique values in Gender : \n",
      "['Female' 'Male']\n",
      " List of unique values in NumOfProducts : \n",
      "[1 3 2 4]\n"
     ]
    }
   ],
   "source": [
    "print(\" List of unique values in Surname : \")\n",
    "print(dataset['Surname'].unique())\n",
    "print(\" List of unique values in Geography : \")\n",
    "print(dataset['Geography'].unique())\n",
    "print(\" List of unique values in Gender : \")\n",
    "print(dataset['Gender'].unique())\n",
    "\n",
    "#Special Field\n",
    "print(\" List of unique values in NumOfProducts : \")\n",
    "print(dataset['NumOfProducts'].unique())"
   ]
  },
  {
   "cell_type": "code",
   "execution_count": 64,
   "metadata": {
    "_uuid": "27c554df83c23580d8ef251ce033605abba3a7b5",
    "colab": {
     "base_uri": "https://localhost:8080/",
     "height": 300
    },
    "id": "H2P3mZdWZHSc",
    "inputHidden": false,
    "outputHidden": false,
    "outputId": "a2e1d414-36de-4a41-b6fb-b62bb0f5f2f8"
   },
   "outputs": [
    {
     "data": {
      "text/html": [
       "\n",
       "  <div id=\"df-7f479d2c-135d-4cf7-a71d-8efd06d0b9e2\">\n",
       "    <div class=\"colab-df-container\">\n",
       "      <div>\n",
       "<style scoped>\n",
       "    .dataframe tbody tr th:only-of-type {\n",
       "        vertical-align: middle;\n",
       "    }\n",
       "\n",
       "    .dataframe tbody tr th {\n",
       "        vertical-align: top;\n",
       "    }\n",
       "\n",
       "    .dataframe thead th {\n",
       "        text-align: right;\n",
       "    }\n",
       "</style>\n",
       "<table border=\"1\" class=\"dataframe\">\n",
       "  <thead>\n",
       "    <tr style=\"text-align: right;\">\n",
       "      <th></th>\n",
       "      <th>RowNumber</th>\n",
       "      <th>CustomerId</th>\n",
       "      <th>CreditScore</th>\n",
       "      <th>Age</th>\n",
       "      <th>Tenure</th>\n",
       "      <th>Balance</th>\n",
       "      <th>NumOfProducts</th>\n",
       "      <th>HasCrCard</th>\n",
       "      <th>IsActiveMember</th>\n",
       "      <th>EstimatedSalary</th>\n",
       "    </tr>\n",
       "  </thead>\n",
       "  <tbody>\n",
       "    <tr>\n",
       "      <th>count</th>\n",
       "      <td>6000.000000</td>\n",
       "      <td>6.000000e+03</td>\n",
       "      <td>6000.000000</td>\n",
       "      <td>6000.000000</td>\n",
       "      <td>6000.000000</td>\n",
       "      <td>6000.000000</td>\n",
       "      <td>6000.000000</td>\n",
       "      <td>6000.000000</td>\n",
       "      <td>6000.000000</td>\n",
       "      <td>6000.000000</td>\n",
       "    </tr>\n",
       "    <tr>\n",
       "      <th>mean</th>\n",
       "      <td>5000.534667</td>\n",
       "      <td>1.569090e+07</td>\n",
       "      <td>652.017833</td>\n",
       "      <td>38.801333</td>\n",
       "      <td>5.021667</td>\n",
       "      <td>76069.556590</td>\n",
       "      <td>1.524667</td>\n",
       "      <td>0.702333</td>\n",
       "      <td>0.521833</td>\n",
       "      <td>99470.172248</td>\n",
       "    </tr>\n",
       "    <tr>\n",
       "      <th>std</th>\n",
       "      <td>2877.924946</td>\n",
       "      <td>7.201902e+04</td>\n",
       "      <td>96.171969</td>\n",
       "      <td>10.409335</td>\n",
       "      <td>2.888469</td>\n",
       "      <td>62709.267925</td>\n",
       "      <td>0.576582</td>\n",
       "      <td>0.457270</td>\n",
       "      <td>0.499565</td>\n",
       "      <td>57622.657250</td>\n",
       "    </tr>\n",
       "    <tr>\n",
       "      <th>min</th>\n",
       "      <td>4.000000</td>\n",
       "      <td>1.556570e+07</td>\n",
       "      <td>350.000000</td>\n",
       "      <td>18.000000</td>\n",
       "      <td>0.000000</td>\n",
       "      <td>0.000000</td>\n",
       "      <td>1.000000</td>\n",
       "      <td>0.000000</td>\n",
       "      <td>0.000000</td>\n",
       "      <td>11.580000</td>\n",
       "    </tr>\n",
       "    <tr>\n",
       "      <th>25%</th>\n",
       "      <td>2501.250000</td>\n",
       "      <td>1.562812e+07</td>\n",
       "      <td>586.000000</td>\n",
       "      <td>32.000000</td>\n",
       "      <td>3.000000</td>\n",
       "      <td>0.000000</td>\n",
       "      <td>1.000000</td>\n",
       "      <td>0.000000</td>\n",
       "      <td>0.000000</td>\n",
       "      <td>50343.395000</td>\n",
       "    </tr>\n",
       "    <tr>\n",
       "      <th>50%</th>\n",
       "      <td>4995.500000</td>\n",
       "      <td>1.569189e+07</td>\n",
       "      <td>655.000000</td>\n",
       "      <td>37.000000</td>\n",
       "      <td>5.000000</td>\n",
       "      <td>96598.420000</td>\n",
       "      <td>1.000000</td>\n",
       "      <td>1.000000</td>\n",
       "      <td>1.000000</td>\n",
       "      <td>99482.980000</td>\n",
       "    </tr>\n",
       "    <tr>\n",
       "      <th>75%</th>\n",
       "      <td>7483.500000</td>\n",
       "      <td>1.575351e+07</td>\n",
       "      <td>718.000000</td>\n",
       "      <td>44.000000</td>\n",
       "      <td>8.000000</td>\n",
       "      <td>127671.927500</td>\n",
       "      <td>2.000000</td>\n",
       "      <td>1.000000</td>\n",
       "      <td>1.000000</td>\n",
       "      <td>149170.417500</td>\n",
       "    </tr>\n",
       "    <tr>\n",
       "      <th>max</th>\n",
       "      <td>9999.000000</td>\n",
       "      <td>1.581569e+07</td>\n",
       "      <td>850.000000</td>\n",
       "      <td>92.000000</td>\n",
       "      <td>10.000000</td>\n",
       "      <td>238387.560000</td>\n",
       "      <td>4.000000</td>\n",
       "      <td>1.000000</td>\n",
       "      <td>1.000000</td>\n",
       "      <td>199992.480000</td>\n",
       "    </tr>\n",
       "  </tbody>\n",
       "</table>\n",
       "</div>\n",
       "      <button class=\"colab-df-convert\" onclick=\"convertToInteractive('df-7f479d2c-135d-4cf7-a71d-8efd06d0b9e2')\"\n",
       "              title=\"Convert this dataframe to an interactive table.\"\n",
       "              style=\"display:none;\">\n",
       "        \n",
       "  <svg xmlns=\"http://www.w3.org/2000/svg\" height=\"24px\"viewBox=\"0 0 24 24\"\n",
       "       width=\"24px\">\n",
       "    <path d=\"M0 0h24v24H0V0z\" fill=\"none\"/>\n",
       "    <path d=\"M18.56 5.44l.94 2.06.94-2.06 2.06-.94-2.06-.94-.94-2.06-.94 2.06-2.06.94zm-11 1L8.5 8.5l.94-2.06 2.06-.94-2.06-.94L8.5 2.5l-.94 2.06-2.06.94zm10 10l.94 2.06.94-2.06 2.06-.94-2.06-.94-.94-2.06-.94 2.06-2.06.94z\"/><path d=\"M17.41 7.96l-1.37-1.37c-.4-.4-.92-.59-1.43-.59-.52 0-1.04.2-1.43.59L10.3 9.45l-7.72 7.72c-.78.78-.78 2.05 0 2.83L4 21.41c.39.39.9.59 1.41.59.51 0 1.02-.2 1.41-.59l7.78-7.78 2.81-2.81c.8-.78.8-2.07 0-2.86zM5.41 20L4 18.59l7.72-7.72 1.47 1.35L5.41 20z\"/>\n",
       "  </svg>\n",
       "      </button>\n",
       "      \n",
       "  <style>\n",
       "    .colab-df-container {\n",
       "      display:flex;\n",
       "      flex-wrap:wrap;\n",
       "      gap: 12px;\n",
       "    }\n",
       "\n",
       "    .colab-df-convert {\n",
       "      background-color: #E8F0FE;\n",
       "      border: none;\n",
       "      border-radius: 50%;\n",
       "      cursor: pointer;\n",
       "      display: none;\n",
       "      fill: #1967D2;\n",
       "      height: 32px;\n",
       "      padding: 0 0 0 0;\n",
       "      width: 32px;\n",
       "    }\n",
       "\n",
       "    .colab-df-convert:hover {\n",
       "      background-color: #E2EBFA;\n",
       "      box-shadow: 0px 1px 2px rgba(60, 64, 67, 0.3), 0px 1px 3px 1px rgba(60, 64, 67, 0.15);\n",
       "      fill: #174EA6;\n",
       "    }\n",
       "\n",
       "    [theme=dark] .colab-df-convert {\n",
       "      background-color: #3B4455;\n",
       "      fill: #D2E3FC;\n",
       "    }\n",
       "\n",
       "    [theme=dark] .colab-df-convert:hover {\n",
       "      background-color: #434B5C;\n",
       "      box-shadow: 0px 1px 3px 1px rgba(0, 0, 0, 0.15);\n",
       "      filter: drop-shadow(0px 1px 2px rgba(0, 0, 0, 0.3));\n",
       "      fill: #FFFFFF;\n",
       "    }\n",
       "  </style>\n",
       "\n",
       "      <script>\n",
       "        const buttonEl =\n",
       "          document.querySelector('#df-7f479d2c-135d-4cf7-a71d-8efd06d0b9e2 button.colab-df-convert');\n",
       "        buttonEl.style.display =\n",
       "          google.colab.kernel.accessAllowed ? 'block' : 'none';\n",
       "\n",
       "        async function convertToInteractive(key) {\n",
       "          const element = document.querySelector('#df-7f479d2c-135d-4cf7-a71d-8efd06d0b9e2');\n",
       "          const dataTable =\n",
       "            await google.colab.kernel.invokeFunction('convertToInteractive',\n",
       "                                                     [key], {});\n",
       "          if (!dataTable) return;\n",
       "\n",
       "          const docLinkHtml = 'Like what you see? Visit the ' +\n",
       "            '<a target=\"_blank\" href=https://colab.research.google.com/notebooks/data_table.ipynb>data table notebook</a>'\n",
       "            + ' to learn more about interactive tables.';\n",
       "          element.innerHTML = '';\n",
       "          dataTable['output_type'] = 'display_data';\n",
       "          await google.colab.output.renderOutput(dataTable, element);\n",
       "          const docLink = document.createElement('div');\n",
       "          docLink.innerHTML = docLinkHtml;\n",
       "          element.appendChild(docLink);\n",
       "        }\n",
       "      </script>\n",
       "    </div>\n",
       "  </div>\n",
       "  "
      ],
      "text/plain": [
       "         RowNumber    CustomerId  CreditScore          Age       Tenure  \\\n",
       "count  6000.000000  6.000000e+03  6000.000000  6000.000000  6000.000000   \n",
       "mean   5000.534667  1.569090e+07   652.017833    38.801333     5.021667   \n",
       "std    2877.924946  7.201902e+04    96.171969    10.409335     2.888469   \n",
       "min       4.000000  1.556570e+07   350.000000    18.000000     0.000000   \n",
       "25%    2501.250000  1.562812e+07   586.000000    32.000000     3.000000   \n",
       "50%    4995.500000  1.569189e+07   655.000000    37.000000     5.000000   \n",
       "75%    7483.500000  1.575351e+07   718.000000    44.000000     8.000000   \n",
       "max    9999.000000  1.581569e+07   850.000000    92.000000    10.000000   \n",
       "\n",
       "             Balance  NumOfProducts    HasCrCard  IsActiveMember  \\\n",
       "count    6000.000000    6000.000000  6000.000000     6000.000000   \n",
       "mean    76069.556590       1.524667     0.702333        0.521833   \n",
       "std     62709.267925       0.576582     0.457270        0.499565   \n",
       "min         0.000000       1.000000     0.000000        0.000000   \n",
       "25%         0.000000       1.000000     0.000000        0.000000   \n",
       "50%     96598.420000       1.000000     1.000000        1.000000   \n",
       "75%    127671.927500       2.000000     1.000000        1.000000   \n",
       "max    238387.560000       4.000000     1.000000        1.000000   \n",
       "\n",
       "       EstimatedSalary  \n",
       "count      6000.000000  \n",
       "mean      99470.172248  \n",
       "std       57622.657250  \n",
       "min          11.580000  \n",
       "25%       50343.395000  \n",
       "50%       99482.980000  \n",
       "75%      149170.417500  \n",
       "max      199992.480000  "
      ]
     },
     "execution_count": 64,
     "metadata": {},
     "output_type": "execute_result"
    }
   ],
   "source": [
    "# Numerical data distribution \n",
    "data_train.describe()"
   ]
  },
  {
   "cell_type": "code",
   "execution_count": 65,
   "metadata": {
    "_uuid": "487c4c1053bbefc6246850c207ab39e190e9fb0c",
    "colab": {
     "base_uri": "https://localhost:8080/",
     "height": 175
    },
    "id": "Wn-dwrn0ZHSf",
    "inputHidden": false,
    "outputHidden": false,
    "outputId": "edf0c6e1-5dd5-4c79-f928-801b9a382495"
   },
   "outputs": [
    {
     "data": {
      "text/html": [
       "\n",
       "  <div id=\"df-a93eabb6-cd38-40e1-8b1d-f7aec15323d2\">\n",
       "    <div class=\"colab-df-container\">\n",
       "      <div>\n",
       "<style scoped>\n",
       "    .dataframe tbody tr th:only-of-type {\n",
       "        vertical-align: middle;\n",
       "    }\n",
       "\n",
       "    .dataframe tbody tr th {\n",
       "        vertical-align: top;\n",
       "    }\n",
       "\n",
       "    .dataframe thead th {\n",
       "        text-align: right;\n",
       "    }\n",
       "</style>\n",
       "<table border=\"1\" class=\"dataframe\">\n",
       "  <thead>\n",
       "    <tr style=\"text-align: right;\">\n",
       "      <th></th>\n",
       "      <th>Surname</th>\n",
       "      <th>Geography</th>\n",
       "      <th>Gender</th>\n",
       "    </tr>\n",
       "  </thead>\n",
       "  <tbody>\n",
       "    <tr>\n",
       "      <th>count</th>\n",
       "      <td>6000</td>\n",
       "      <td>6000</td>\n",
       "      <td>6000</td>\n",
       "    </tr>\n",
       "    <tr>\n",
       "      <th>unique</th>\n",
       "      <td>2246</td>\n",
       "      <td>3</td>\n",
       "      <td>2</td>\n",
       "    </tr>\n",
       "    <tr>\n",
       "      <th>top</th>\n",
       "      <td>Smith</td>\n",
       "      <td>France</td>\n",
       "      <td>Male</td>\n",
       "    </tr>\n",
       "    <tr>\n",
       "      <th>freq</th>\n",
       "      <td>23</td>\n",
       "      <td>3026</td>\n",
       "      <td>3259</td>\n",
       "    </tr>\n",
       "  </tbody>\n",
       "</table>\n",
       "</div>\n",
       "      <button class=\"colab-df-convert\" onclick=\"convertToInteractive('df-a93eabb6-cd38-40e1-8b1d-f7aec15323d2')\"\n",
       "              title=\"Convert this dataframe to an interactive table.\"\n",
       "              style=\"display:none;\">\n",
       "        \n",
       "  <svg xmlns=\"http://www.w3.org/2000/svg\" height=\"24px\"viewBox=\"0 0 24 24\"\n",
       "       width=\"24px\">\n",
       "    <path d=\"M0 0h24v24H0V0z\" fill=\"none\"/>\n",
       "    <path d=\"M18.56 5.44l.94 2.06.94-2.06 2.06-.94-2.06-.94-.94-2.06-.94 2.06-2.06.94zm-11 1L8.5 8.5l.94-2.06 2.06-.94-2.06-.94L8.5 2.5l-.94 2.06-2.06.94zm10 10l.94 2.06.94-2.06 2.06-.94-2.06-.94-.94-2.06-.94 2.06-2.06.94z\"/><path d=\"M17.41 7.96l-1.37-1.37c-.4-.4-.92-.59-1.43-.59-.52 0-1.04.2-1.43.59L10.3 9.45l-7.72 7.72c-.78.78-.78 2.05 0 2.83L4 21.41c.39.39.9.59 1.41.59.51 0 1.02-.2 1.41-.59l7.78-7.78 2.81-2.81c.8-.78.8-2.07 0-2.86zM5.41 20L4 18.59l7.72-7.72 1.47 1.35L5.41 20z\"/>\n",
       "  </svg>\n",
       "      </button>\n",
       "      \n",
       "  <style>\n",
       "    .colab-df-container {\n",
       "      display:flex;\n",
       "      flex-wrap:wrap;\n",
       "      gap: 12px;\n",
       "    }\n",
       "\n",
       "    .colab-df-convert {\n",
       "      background-color: #E8F0FE;\n",
       "      border: none;\n",
       "      border-radius: 50%;\n",
       "      cursor: pointer;\n",
       "      display: none;\n",
       "      fill: #1967D2;\n",
       "      height: 32px;\n",
       "      padding: 0 0 0 0;\n",
       "      width: 32px;\n",
       "    }\n",
       "\n",
       "    .colab-df-convert:hover {\n",
       "      background-color: #E2EBFA;\n",
       "      box-shadow: 0px 1px 2px rgba(60, 64, 67, 0.3), 0px 1px 3px 1px rgba(60, 64, 67, 0.15);\n",
       "      fill: #174EA6;\n",
       "    }\n",
       "\n",
       "    [theme=dark] .colab-df-convert {\n",
       "      background-color: #3B4455;\n",
       "      fill: #D2E3FC;\n",
       "    }\n",
       "\n",
       "    [theme=dark] .colab-df-convert:hover {\n",
       "      background-color: #434B5C;\n",
       "      box-shadow: 0px 1px 3px 1px rgba(0, 0, 0, 0.15);\n",
       "      filter: drop-shadow(0px 1px 2px rgba(0, 0, 0, 0.3));\n",
       "      fill: #FFFFFF;\n",
       "    }\n",
       "  </style>\n",
       "\n",
       "      <script>\n",
       "        const buttonEl =\n",
       "          document.querySelector('#df-a93eabb6-cd38-40e1-8b1d-f7aec15323d2 button.colab-df-convert');\n",
       "        buttonEl.style.display =\n",
       "          google.colab.kernel.accessAllowed ? 'block' : 'none';\n",
       "\n",
       "        async function convertToInteractive(key) {\n",
       "          const element = document.querySelector('#df-a93eabb6-cd38-40e1-8b1d-f7aec15323d2');\n",
       "          const dataTable =\n",
       "            await google.colab.kernel.invokeFunction('convertToInteractive',\n",
       "                                                     [key], {});\n",
       "          if (!dataTable) return;\n",
       "\n",
       "          const docLinkHtml = 'Like what you see? Visit the ' +\n",
       "            '<a target=\"_blank\" href=https://colab.research.google.com/notebooks/data_table.ipynb>data table notebook</a>'\n",
       "            + ' to learn more about interactive tables.';\n",
       "          element.innerHTML = '';\n",
       "          dataTable['output_type'] = 'display_data';\n",
       "          await google.colab.output.renderOutput(dataTable, element);\n",
       "          const docLink = document.createElement('div');\n",
       "          docLink.innerHTML = docLinkHtml;\n",
       "          element.appendChild(docLink);\n",
       "        }\n",
       "      </script>\n",
       "    </div>\n",
       "  </div>\n",
       "  "
      ],
      "text/plain": [
       "       Surname Geography Gender\n",
       "count     6000      6000   6000\n",
       "unique    2246         3      2\n",
       "top      Smith    France   Male\n",
       "freq        23      3026   3259"
      ]
     },
     "execution_count": 65,
     "metadata": {},
     "output_type": "execute_result"
    }
   ],
   "source": [
    "data_train.describe(include=['O'])"
   ]
  },
  {
   "cell_type": "code",
   "execution_count": 66,
   "metadata": {
    "_uuid": "60d1dfca01ccfe839b57e5e97648cd34cfbe1ded",
    "colab": {
     "base_uri": "https://localhost:8080/",
     "height": 1000
    },
    "id": "I-SYUOw-ZHSh",
    "inputHidden": false,
    "outputHidden": false,
    "outputId": "b0314193-3a08-435d-f5ca-6cf30b3bad91"
   },
   "outputs": [
    {
     "data": {
      "text/plain": [
       "array([[<matplotlib.axes._subplots.AxesSubplot object at 0x7fdc35707e20>,\n",
       "        <matplotlib.axes._subplots.AxesSubplot object at 0x7fdc2fe42d00>,\n",
       "        <matplotlib.axes._subplots.AxesSubplot object at 0x7fdc3270f640>],\n",
       "       [<matplotlib.axes._subplots.AxesSubplot object at 0x7fdc32780700>,\n",
       "        <matplotlib.axes._subplots.AxesSubplot object at 0x7fdc326e5250>,\n",
       "        <matplotlib.axes._subplots.AxesSubplot object at 0x7fdc2fdb0b50>],\n",
       "       [<matplotlib.axes._subplots.AxesSubplot object at 0x7fdc2fdb0700>,\n",
       "        <matplotlib.axes._subplots.AxesSubplot object at 0x7fdc32722d60>,\n",
       "        <matplotlib.axes._subplots.AxesSubplot object at 0x7fdc2fdcc670>],\n",
       "       [<matplotlib.axes._subplots.AxesSubplot object at 0x7fdc2e4fb430>,\n",
       "        <matplotlib.axes._subplots.AxesSubplot object at 0x7fdc2e4a5820>,\n",
       "        <matplotlib.axes._subplots.AxesSubplot object at 0x7fdc2e452b50>]],\n",
       "      dtype=object)"
      ]
     },
     "execution_count": 66,
     "metadata": {},
     "output_type": "execute_result"
    },
    {
     "data": {
      "image/png": "[encoded data removed]",
      "text/plain": [
       "<Figure size 1440x1080 with 12 Axes>"
      ]
     },
     "metadata": {
      "needs_background": "light"
     },
     "output_type": "display_data"
    }
   ],
   "source": [
    "dataset.hist(bins=10, figsize=(20,15))"
   ]
  },
  {
   "cell_type": "code",
   "execution_count": 67,
   "metadata": {
    "_uuid": "cb2119baf47aa259ce5d997ce091c3d2903d16ab",
    "colab": {
     "base_uri": "https://localhost:8080/",
     "height": 281
    },
    "id": "LSq3-bMKZHSj",
    "inputHidden": false,
    "outputHidden": false,
    "outputId": "0a4fabdb-3635-4594-e779-bf5187a39fa0"
   },
   "outputs": [
    {
     "data": {
      "image/png": "[encoded data removed]",
      "text/plain": [
       "<Figure size 432x288 with 1 Axes>"
      ]
     },
     "metadata": {
      "needs_background": "light"
     },
     "output_type": "display_data"
    }
   ],
   "source": [
    "DrawBarplot(data_train, 'Geography')"
   ]
  },
  {
   "cell_type": "code",
   "execution_count": 68,
   "metadata": {
    "_uuid": "1af367bcb4e0023f5e93e8ddb6b9069201425857",
    "colab": {
     "base_uri": "https://localhost:8080/",
     "height": 541
    },
    "id": "-klChZ7-ZHSm",
    "inputHidden": false,
    "outputHidden": false,
    "outputId": "b0338e8d-04ae-44be-9cd1-b67fc0b08ad9"
   },
   "outputs": [
    {
     "data": {
      "image/png": "[encoded data removed]",
      "text/plain": [
       "<Figure size 432x288 with 1 Axes>"
      ]
     },
     "metadata": {
      "needs_background": "light"
     },
     "output_type": "display_data"
    },
    {
     "data": {
      "image/png": "[encoded data removed]",
      "text/plain": [
       "<Figure size 432x288 with 1 Axes>"
      ]
     },
     "metadata": {
      "needs_background": "light"
     },
     "output_type": "display_data"
    }
   ],
   "source": [
    "DrawBoxplot2(dataset, xAtt = 'Exited', yAtt='CreditScore')\n",
    "DrawBoxplot2(dataset, xAtt = 'Exited', yAtt='CreditScore', hAtt='Gender')"
   ]
  },
  {
   "cell_type": "code",
   "execution_count": 69,
   "metadata": {
    "_uuid": "f498fabe0f0dcd2651b35c2511d2b939288fb09c",
    "colab": {
     "base_uri": "https://localhost:8080/",
     "height": 541
    },
    "id": "Ph-cBgbhZHSp",
    "inputHidden": false,
    "outputHidden": false,
    "outputId": "4b868bec-9b77-4b09-80c1-495b9d50b1e6"
   },
   "outputs": [
    {
     "data": {
      "image/png": "[encoded data removed]",
      "text/plain": [
       "<Figure size 432x288 with 1 Axes>"
      ]
     },
     "metadata": {
      "needs_background": "light"
     },
     "output_type": "display_data"
    },
    {
     "data": {
      "image/png": "[encoded data removed]",
      "text/plain": [
       "<Figure size 432x288 with 1 Axes>"
      ]
     },
     "metadata": {
      "needs_background": "light"
     },
     "output_type": "display_data"
    }
   ],
   "source": [
    "DrawCountplot(dataset, 'Geography', 'Exited')\n",
    "DrawCountplot(dataset, 'Age', 'Exited')"
   ]
  },
  {
   "cell_type": "code",
   "execution_count": 70,
   "metadata": {
    "_uuid": "fd077f888d99d6a0bce65d3eac1571d17fb162a1",
    "colab": {
     "base_uri": "https://localhost:8080/"
    },
    "id": "4reFqzHDZHSt",
    "inputHidden": false,
    "outputHidden": false,
    "outputId": "04285cb3-2a82-4f59-f9c6-7e4eba288a78"
   },
   "outputs": [
    {
     "name": "stdout",
     "output_type": "stream",
     "text": [
      "  CategoricalCreditScore    Exited\n",
      "0       (349.999, 608.0]  0.215284\n",
      "1         (608.0, 695.0]  0.197660\n",
      "2         (695.0, 850.0]  0.198002\n"
     ]
    }
   ],
   "source": [
    "dataset['CategoricalCreditScore'] = pd.qcut(dataset['CreditScore'], 3)\n",
    "print (dataset[['CategoricalCreditScore', 'Exited']].groupby(['CategoricalCreditScore'], as_index=False).mean())"
   ]
  },
  {
   "cell_type": "code",
   "execution_count": 71,
   "metadata": {
    "_uuid": "fa1c3289800efb6bc9520b58041c052663edf36e",
    "colab": {
     "base_uri": "https://localhost:8080/",
     "height": 438
    },
    "id": "x8zDR0DoZHSw",
    "inputHidden": false,
    "outputHidden": false,
    "outputId": "468754ce-f12e-459b-a89b-21dbf4c4236c"
   },
   "outputs": [
    {
     "data": {
      "image/png": "[encoded data removed]",
      "text/plain": [
       "<Figure size 720x360 with 2 Axes>"
      ]
     },
     "metadata": {
      "needs_background": "light"
     },
     "output_type": "display_data"
    },
    {
     "name": "stdout",
     "output_type": "stream",
     "text": [
      "   CategoricalAge    Exited\n",
      "0  (17.999, 31.0]  0.076307\n",
      "1    (31.0, 35.0]  0.093206\n",
      "2    (35.0, 40.0]  0.149603\n",
      "3    (40.0, 46.0]  0.285967\n",
      "4    (46.0, 92.0]  0.459416\n"
     ]
    }
   ],
   "source": [
    "ContPlot(dataset[['Age','Exited']].copy().dropna(axis=0), \n",
    "          'Age', 'Exited', {0: \"black\", 1: \"orange\"} , [1, 0], range(0,100,10))\n",
    "\n",
    "dataset['CategoricalAge'] = pd.qcut(dataset['Age'], 5, duplicates='drop')\n",
    "print (dataset[['CategoricalAge', 'Exited']].groupby(['CategoricalAge'], as_index=False).mean())"
   ]
  },
  {
   "cell_type": "code",
   "execution_count": 72,
   "metadata": {
    "_uuid": "cb88edaa4be06f70778b05b598a78a7f936fad09",
    "colab": {
     "base_uri": "https://localhost:8080/",
     "height": 397
    },
    "id": "aj8BSODhZHSz",
    "inputHidden": false,
    "outputHidden": false,
    "outputId": "31f5f4dc-fa86-4304-ed7a-1b1ab4df10a6"
   },
   "outputs": [
    {
     "data": {
      "image/png": "[encoded data removed]",
      "text/plain": [
       "<Figure size 720x360 with 2 Axes>"
      ]
     },
     "metadata": {
      "needs_background": "light"
     },
     "output_type": "display_data"
    },
    {
     "name": "stdout",
     "output_type": "stream",
     "text": [
      "       CategoricalBalance    Exited\n",
      "0     (-0.001, 118100.59]  0.183441\n",
      "1  (118100.59, 250898.09]  0.244224\n"
     ]
    }
   ],
   "source": [
    "ContPlot(dataset[['Balance','Exited']].copy().dropna(axis=0), \n",
    "          'Balance', 'Exited', {0: \"black\", 1: \"orange\"} , [1, 0], range(0,100,10))\n",
    "\n",
    "dataset['CategoricalBalance'] = pd.qcut(dataset['Balance'], 3, duplicates='drop')\n",
    "print (dataset[['CategoricalBalance', 'Exited']].groupby(['CategoricalBalance'], as_index=False).mean())\n"
   ]
  },
  {
   "cell_type": "code",
   "execution_count": 73,
   "metadata": {
    "_uuid": "d82de983e2b715c863dde155ee9073bbb6240c61",
    "colab": {
     "base_uri": "https://localhost:8080/",
     "height": 496
    },
    "id": "kxq0_OHrZHS2",
    "inputHidden": false,
    "outputHidden": false,
    "outputId": "2837193c-0bff-4501-fed9-722b5721a13d"
   },
   "outputs": [
    {
     "data": {
      "text/html": [
       "\n",
       "  <div id=\"df-7be8a75f-d577-4af4-95ab-d19f8388f041\">\n",
       "    <div class=\"colab-df-container\">\n",
       "      <div>\n",
       "<style scoped>\n",
       "    .dataframe tbody tr th:only-of-type {\n",
       "        vertical-align: middle;\n",
       "    }\n",
       "\n",
       "    .dataframe tbody tr th {\n",
       "        vertical-align: top;\n",
       "    }\n",
       "\n",
       "    .dataframe thead th {\n",
       "        text-align: right;\n",
       "    }\n",
       "</style>\n",
       "<table border=\"1\" class=\"dataframe\">\n",
       "  <thead>\n",
       "    <tr style=\"text-align: right;\">\n",
       "      <th></th>\n",
       "      <th>RowNumber</th>\n",
       "      <th>CustomerId</th>\n",
       "      <th>Surname</th>\n",
       "      <th>CreditScore</th>\n",
       "      <th>Geography</th>\n",
       "      <th>Age</th>\n",
       "      <th>Tenure</th>\n",
       "      <th>Balance</th>\n",
       "      <th>NumOfProducts</th>\n",
       "      <th>HasCrCard</th>\n",
       "      <th>IsActiveMember</th>\n",
       "      <th>EstimatedSalary</th>\n",
       "      <th>Exited</th>\n",
       "      <th>CategoricalCreditScore</th>\n",
       "      <th>CategoricalAge</th>\n",
       "      <th>CategoricalBalance</th>\n",
       "      <th>Gender_Female</th>\n",
       "      <th>Gender_Male</th>\n",
       "    </tr>\n",
       "  </thead>\n",
       "  <tbody>\n",
       "    <tr>\n",
       "      <th>0</th>\n",
       "      <td>1</td>\n",
       "      <td>15634602</td>\n",
       "      <td>Hargrave</td>\n",
       "      <td>619</td>\n",
       "      <td>0</td>\n",
       "      <td>42</td>\n",
       "      <td>2</td>\n",
       "      <td>0.0</td>\n",
       "      <td>1</td>\n",
       "      <td>1</td>\n",
       "      <td>1</td>\n",
       "      <td>101348.88</td>\n",
       "      <td>1</td>\n",
       "      <td>(608.0, 695.0]</td>\n",
       "      <td>(40.0, 46.0]</td>\n",
       "      <td>(-0.001, 118100.59]</td>\n",
       "      <td>1</td>\n",
       "      <td>0</td>\n",
       "    </tr>\n",
       "    <tr>\n",
       "      <th>1</th>\n",
       "      <td>2</td>\n",
       "      <td>15647311</td>\n",
       "      <td>Hill</td>\n",
       "      <td>608</td>\n",
       "      <td>2</td>\n",
       "      <td>41</td>\n",
       "      <td>1</td>\n",
       "      <td>0.0</td>\n",
       "      <td>1</td>\n",
       "      <td>0</td>\n",
       "      <td>1</td>\n",
       "      <td>112542.58</td>\n",
       "      <td>0</td>\n",
       "      <td>(349.999, 608.0]</td>\n",
       "      <td>(40.0, 46.0]</td>\n",
       "      <td>(-0.001, 118100.59]</td>\n",
       "      <td>1</td>\n",
       "      <td>0</td>\n",
       "    </tr>\n",
       "    <tr>\n",
       "      <th>2</th>\n",
       "      <td>3</td>\n",
       "      <td>15619304</td>\n",
       "      <td>Onio</td>\n",
       "      <td>502</td>\n",
       "      <td>0</td>\n",
       "      <td>42</td>\n",
       "      <td>8</td>\n",
       "      <td>1.0</td>\n",
       "      <td>3</td>\n",
       "      <td>1</td>\n",
       "      <td>0</td>\n",
       "      <td>113931.57</td>\n",
       "      <td>1</td>\n",
       "      <td>(349.999, 608.0]</td>\n",
       "      <td>(40.0, 46.0]</td>\n",
       "      <td>(118100.59, 250898.09]</td>\n",
       "      <td>1</td>\n",
       "      <td>0</td>\n",
       "    </tr>\n",
       "    <tr>\n",
       "      <th>3</th>\n",
       "      <td>4</td>\n",
       "      <td>15701354</td>\n",
       "      <td>Boni</td>\n",
       "      <td>699</td>\n",
       "      <td>0</td>\n",
       "      <td>39</td>\n",
       "      <td>1</td>\n",
       "      <td>0.0</td>\n",
       "      <td>2</td>\n",
       "      <td>0</td>\n",
       "      <td>0</td>\n",
       "      <td>93826.63</td>\n",
       "      <td>0</td>\n",
       "      <td>(695.0, 850.0]</td>\n",
       "      <td>(35.0, 40.0]</td>\n",
       "      <td>(-0.001, 118100.59]</td>\n",
       "      <td>1</td>\n",
       "      <td>0</td>\n",
       "    </tr>\n",
       "    <tr>\n",
       "      <th>4</th>\n",
       "      <td>5</td>\n",
       "      <td>15737888</td>\n",
       "      <td>Mitchell</td>\n",
       "      <td>850</td>\n",
       "      <td>2</td>\n",
       "      <td>43</td>\n",
       "      <td>2</td>\n",
       "      <td>1.0</td>\n",
       "      <td>1</td>\n",
       "      <td>1</td>\n",
       "      <td>1</td>\n",
       "      <td>79084.10</td>\n",
       "      <td>0</td>\n",
       "      <td>(695.0, 850.0]</td>\n",
       "      <td>(40.0, 46.0]</td>\n",
       "      <td>(118100.59, 250898.09]</td>\n",
       "      <td>1</td>\n",
       "      <td>0</td>\n",
       "    </tr>\n",
       "    <tr>\n",
       "      <th>5</th>\n",
       "      <td>6</td>\n",
       "      <td>15574012</td>\n",
       "      <td>Chu</td>\n",
       "      <td>645</td>\n",
       "      <td>2</td>\n",
       "      <td>44</td>\n",
       "      <td>8</td>\n",
       "      <td>0.0</td>\n",
       "      <td>2</td>\n",
       "      <td>1</td>\n",
       "      <td>0</td>\n",
       "      <td>149756.71</td>\n",
       "      <td>1</td>\n",
       "      <td>(608.0, 695.0]</td>\n",
       "      <td>(40.0, 46.0]</td>\n",
       "      <td>(-0.001, 118100.59]</td>\n",
       "      <td>0</td>\n",
       "      <td>1</td>\n",
       "    </tr>\n",
       "    <tr>\n",
       "      <th>6</th>\n",
       "      <td>7</td>\n",
       "      <td>15592531</td>\n",
       "      <td>Bartlett</td>\n",
       "      <td>822</td>\n",
       "      <td>0</td>\n",
       "      <td>50</td>\n",
       "      <td>7</td>\n",
       "      <td>0.0</td>\n",
       "      <td>2</td>\n",
       "      <td>1</td>\n",
       "      <td>1</td>\n",
       "      <td>10062.80</td>\n",
       "      <td>0</td>\n",
       "      <td>(695.0, 850.0]</td>\n",
       "      <td>(46.0, 92.0]</td>\n",
       "      <td>(-0.001, 118100.59]</td>\n",
       "      <td>0</td>\n",
       "      <td>1</td>\n",
       "    </tr>\n",
       "    <tr>\n",
       "      <th>7</th>\n",
       "      <td>8</td>\n",
       "      <td>15656148</td>\n",
       "      <td>Obinna</td>\n",
       "      <td>376</td>\n",
       "      <td>1</td>\n",
       "      <td>29</td>\n",
       "      <td>4</td>\n",
       "      <td>0.0</td>\n",
       "      <td>4</td>\n",
       "      <td>1</td>\n",
       "      <td>0</td>\n",
       "      <td>119346.88</td>\n",
       "      <td>1</td>\n",
       "      <td>(349.999, 608.0]</td>\n",
       "      <td>(17.999, 31.0]</td>\n",
       "      <td>(-0.001, 118100.59]</td>\n",
       "      <td>1</td>\n",
       "      <td>0</td>\n",
       "    </tr>\n",
       "    <tr>\n",
       "      <th>8</th>\n",
       "      <td>9</td>\n",
       "      <td>15792365</td>\n",
       "      <td>He</td>\n",
       "      <td>501</td>\n",
       "      <td>0</td>\n",
       "      <td>44</td>\n",
       "      <td>4</td>\n",
       "      <td>1.0</td>\n",
       "      <td>2</td>\n",
       "      <td>0</td>\n",
       "      <td>1</td>\n",
       "      <td>74940.50</td>\n",
       "      <td>0</td>\n",
       "      <td>(349.999, 608.0]</td>\n",
       "      <td>(40.0, 46.0]</td>\n",
       "      <td>(118100.59, 250898.09]</td>\n",
       "      <td>0</td>\n",
       "      <td>1</td>\n",
       "    </tr>\n",
       "    <tr>\n",
       "      <th>9</th>\n",
       "      <td>10</td>\n",
       "      <td>15592389</td>\n",
       "      <td>H?</td>\n",
       "      <td>684</td>\n",
       "      <td>0</td>\n",
       "      <td>27</td>\n",
       "      <td>2</td>\n",
       "      <td>1.0</td>\n",
       "      <td>1</td>\n",
       "      <td>1</td>\n",
       "      <td>1</td>\n",
       "      <td>71725.73</td>\n",
       "      <td>0</td>\n",
       "      <td>(608.0, 695.0]</td>\n",
       "      <td>(17.999, 31.0]</td>\n",
       "      <td>(118100.59, 250898.09]</td>\n",
       "      <td>0</td>\n",
       "      <td>1</td>\n",
       "    </tr>\n",
       "  </tbody>\n",
       "</table>\n",
       "</div>\n",
       "      <button class=\"colab-df-convert\" onclick=\"convertToInteractive('df-7be8a75f-d577-4af4-95ab-d19f8388f041')\"\n",
       "              title=\"Convert this dataframe to an interactive table.\"\n",
       "              style=\"display:none;\">\n",
       "        \n",
       "  <svg xmlns=\"http://www.w3.org/2000/svg\" height=\"24px\"viewBox=\"0 0 24 24\"\n",
       "       width=\"24px\">\n",
       "    <path d=\"M0 0h24v24H0V0z\" fill=\"none\"/>\n",
       "    <path d=\"M18.56 5.44l.94 2.06.94-2.06 2.06-.94-2.06-.94-.94-2.06-.94 2.06-2.06.94zm-11 1L8.5 8.5l.94-2.06 2.06-.94-2.06-.94L8.5 2.5l-.94 2.06-2.06.94zm10 10l.94 2.06.94-2.06 2.06-.94-2.06-.94-.94-2.06-.94 2.06-2.06.94z\"/><path d=\"M17.41 7.96l-1.37-1.37c-.4-.4-.92-.59-1.43-.59-.52 0-1.04.2-1.43.59L10.3 9.45l-7.72 7.72c-.78.78-.78 2.05 0 2.83L4 21.41c.39.39.9.59 1.41.59.51 0 1.02-.2 1.41-.59l7.78-7.78 2.81-2.81c.8-.78.8-2.07 0-2.86zM5.41 20L4 18.59l7.72-7.72 1.47 1.35L5.41 20z\"/>\n",
       "  </svg>\n",
       "      </button>\n",
       "      \n",
       "  <style>\n",
       "    .colab-df-container {\n",
       "      display:flex;\n",
       "      flex-wrap:wrap;\n",
       "      gap: 12px;\n",
       "    }\n",
       "\n",
       "    .colab-df-convert {\n",
       "      background-color: #E8F0FE;\n",
       "      border: none;\n",
       "      border-radius: 50%;\n",
       "      cursor: pointer;\n",
       "      display: none;\n",
       "      fill: #1967D2;\n",
       "      height: 32px;\n",
       "      padding: 0 0 0 0;\n",
       "      width: 32px;\n",
       "    }\n",
       "\n",
       "    .colab-df-convert:hover {\n",
       "      background-color: #E2EBFA;\n",
       "      box-shadow: 0px 1px 2px rgba(60, 64, 67, 0.3), 0px 1px 3px 1px rgba(60, 64, 67, 0.15);\n",
       "      fill: #174EA6;\n",
       "    }\n",
       "\n",
       "    [theme=dark] .colab-df-convert {\n",
       "      background-color: #3B4455;\n",
       "      fill: #D2E3FC;\n",
       "    }\n",
       "\n",
       "    [theme=dark] .colab-df-convert:hover {\n",
       "      background-color: #434B5C;\n",
       "      box-shadow: 0px 1px 3px 1px rgba(0, 0, 0, 0.15);\n",
       "      filter: drop-shadow(0px 1px 2px rgba(0, 0, 0, 0.3));\n",
       "      fill: #FFFFFF;\n",
       "    }\n",
       "  </style>\n",
       "\n",
       "      <script>\n",
       "        const buttonEl =\n",
       "          document.querySelector('#df-7be8a75f-d577-4af4-95ab-d19f8388f041 button.colab-df-convert');\n",
       "        buttonEl.style.display =\n",
       "          google.colab.kernel.accessAllowed ? 'block' : 'none';\n",
       "\n",
       "        async function convertToInteractive(key) {\n",
       "          const element = document.querySelector('#df-7be8a75f-d577-4af4-95ab-d19f8388f041');\n",
       "          const dataTable =\n",
       "            await google.colab.kernel.invokeFunction('convertToInteractive',\n",
       "                                                     [key], {});\n",
       "          if (!dataTable) return;\n",
       "\n",
       "          const docLinkHtml = 'Like what you see? Visit the ' +\n",
       "            '<a target=\"_blank\" href=https://colab.research.google.com/notebooks/data_table.ipynb>data table notebook</a>'\n",
       "            + ' to learn more about interactive tables.';\n",
       "          element.innerHTML = '';\n",
       "          dataTable['output_type'] = 'display_data';\n",
       "          await google.colab.output.renderOutput(dataTable, element);\n",
       "          const docLink = document.createElement('div');\n",
       "          docLink.innerHTML = docLinkHtml;\n",
       "          element.appendChild(docLink);\n",
       "        }\n",
       "      </script>\n",
       "    </div>\n",
       "  </div>\n",
       "  "
      ],
      "text/plain": [
       "   RowNumber  CustomerId   Surname  CreditScore  Geography  Age  Tenure  \\\n",
       "0          1    15634602  Hargrave          619          0   42       2   \n",
       "1          2    15647311      Hill          608          2   41       1   \n",
       "2          3    15619304      Onio          502          0   42       8   \n",
       "3          4    15701354      Boni          699          0   39       1   \n",
       "4          5    15737888  Mitchell          850          2   43       2   \n",
       "5          6    15574012       Chu          645          2   44       8   \n",
       "6          7    15592531  Bartlett          822          0   50       7   \n",
       "7          8    15656148    Obinna          376          1   29       4   \n",
       "8          9    15792365        He          501          0   44       4   \n",
       "9         10    15592389        H?          684          0   27       2   \n",
       "\n",
       "   Balance  NumOfProducts  HasCrCard  IsActiveMember  EstimatedSalary  Exited  \\\n",
       "0      0.0              1          1               1        101348.88       1   \n",
       "1      0.0              1          0               1        112542.58       0   \n",
       "2      1.0              3          1               0        113931.57       1   \n",
       "3      0.0              2          0               0         93826.63       0   \n",
       "4      1.0              1          1               1         79084.10       0   \n",
       "5      0.0              2          1               0        149756.71       1   \n",
       "6      0.0              2          1               1         10062.80       0   \n",
       "7      0.0              4          1               0        119346.88       1   \n",
       "8      1.0              2          0               1         74940.50       0   \n",
       "9      1.0              1          1               1         71725.73       0   \n",
       "\n",
       "  CategoricalCreditScore  CategoricalAge      CategoricalBalance  \\\n",
       "0         (608.0, 695.0]    (40.0, 46.0]     (-0.001, 118100.59]   \n",
       "1       (349.999, 608.0]    (40.0, 46.0]     (-0.001, 118100.59]   \n",
       "2       (349.999, 608.0]    (40.0, 46.0]  (118100.59, 250898.09]   \n",
       "3         (695.0, 850.0]    (35.0, 40.0]     (-0.001, 118100.59]   \n",
       "4         (695.0, 850.0]    (40.0, 46.0]  (118100.59, 250898.09]   \n",
       "5         (608.0, 695.0]    (40.0, 46.0]     (-0.001, 118100.59]   \n",
       "6         (695.0, 850.0]    (46.0, 92.0]     (-0.001, 118100.59]   \n",
       "7       (349.999, 608.0]  (17.999, 31.0]     (-0.001, 118100.59]   \n",
       "8       (349.999, 608.0]    (40.0, 46.0]  (118100.59, 250898.09]   \n",
       "9         (608.0, 695.0]  (17.999, 31.0]  (118100.59, 250898.09]   \n",
       "\n",
       "   Gender_Female  Gender_Male  \n",
       "0              1            0  \n",
       "1              1            0  \n",
       "2              1            0  \n",
       "3              1            0  \n",
       "4              1            0  \n",
       "5              0            1  \n",
       "6              0            1  \n",
       "7              1            0  \n",
       "8              0            1  \n",
       "9              0            1  "
      ]
     },
     "execution_count": 73,
     "metadata": {},
     "output_type": "execute_result"
    }
   ],
   "source": [
    "data_encoder = dataset.copy()\n",
    "data_encoder['Geography'] = LabelEncoder().fit_transform(data_encoder['Geography'])\n",
    "# data_encoder['Surname'] = LabelEncoder().fit_transform(data_encoder['Surname'])\n",
    "# data_encoder['Gender'] = LabelEncoder().fit_transform(data_encoder['Gender'])\n",
    "data_encoder = data_encoder.join(pd.get_dummies(data_encoder['Gender'], prefix='Gender'))\n",
    "data_encoder = data_encoder.drop('Gender', axis=1)\n",
    "\n",
    "data_encoder.loc[ data_encoder['Balance'] <= 118100.59, 'Balance'] = 0\n",
    "data_encoder.loc[ data_encoder['Balance'] > 118100.59, 'Balance'] = 1\n",
    "\n",
    "data_encoder.head(10)"
   ]
  },
  {
   "cell_type": "code",
   "execution_count": 74,
   "metadata": {
    "_uuid": "6eaf351e331ea907a6337e43d7711380dec174da",
    "colab": {
     "base_uri": "https://localhost:8080/",
     "height": 206
    },
    "id": "hJu2i0bTZHS5",
    "outputId": "e095103f-677f-45c9-e8dc-772ad487230b"
   },
   "outputs": [
    {
     "data": {
      "text/html": [
       "\n",
       "  <div id=\"df-79f6c5b7-6f36-42ec-be83-17530c15487e\">\n",
       "    <div class=\"colab-df-container\">\n",
       "      <div>\n",
       "<style scoped>\n",
       "    .dataframe tbody tr th:only-of-type {\n",
       "        vertical-align: middle;\n",
       "    }\n",
       "\n",
       "    .dataframe tbody tr th {\n",
       "        vertical-align: top;\n",
       "    }\n",
       "\n",
       "    .dataframe thead th {\n",
       "        text-align: right;\n",
       "    }\n",
       "</style>\n",
       "<table border=\"1\" class=\"dataframe\">\n",
       "  <thead>\n",
       "    <tr style=\"text-align: right;\">\n",
       "      <th></th>\n",
       "      <th>CreditScore</th>\n",
       "      <th>Geography</th>\n",
       "      <th>Age</th>\n",
       "      <th>Tenure</th>\n",
       "      <th>Balance</th>\n",
       "      <th>NumOfProducts</th>\n",
       "      <th>HasCrCard</th>\n",
       "      <th>IsActiveMember</th>\n",
       "      <th>EstimatedSalary</th>\n",
       "      <th>Exited</th>\n",
       "      <th>Gender_Female</th>\n",
       "      <th>Gender_Male</th>\n",
       "    </tr>\n",
       "  </thead>\n",
       "  <tbody>\n",
       "    <tr>\n",
       "      <th>0</th>\n",
       "      <td>619</td>\n",
       "      <td>0</td>\n",
       "      <td>42</td>\n",
       "      <td>2</td>\n",
       "      <td>0.0</td>\n",
       "      <td>1</td>\n",
       "      <td>1</td>\n",
       "      <td>1</td>\n",
       "      <td>101348.88</td>\n",
       "      <td>1</td>\n",
       "      <td>1</td>\n",
       "      <td>0</td>\n",
       "    </tr>\n",
       "    <tr>\n",
       "      <th>1</th>\n",
       "      <td>608</td>\n",
       "      <td>2</td>\n",
       "      <td>41</td>\n",
       "      <td>1</td>\n",
       "      <td>0.0</td>\n",
       "      <td>1</td>\n",
       "      <td>0</td>\n",
       "      <td>1</td>\n",
       "      <td>112542.58</td>\n",
       "      <td>0</td>\n",
       "      <td>1</td>\n",
       "      <td>0</td>\n",
       "    </tr>\n",
       "    <tr>\n",
       "      <th>2</th>\n",
       "      <td>502</td>\n",
       "      <td>0</td>\n",
       "      <td>42</td>\n",
       "      <td>8</td>\n",
       "      <td>1.0</td>\n",
       "      <td>3</td>\n",
       "      <td>1</td>\n",
       "      <td>0</td>\n",
       "      <td>113931.57</td>\n",
       "      <td>1</td>\n",
       "      <td>1</td>\n",
       "      <td>0</td>\n",
       "    </tr>\n",
       "    <tr>\n",
       "      <th>3</th>\n",
       "      <td>699</td>\n",
       "      <td>0</td>\n",
       "      <td>39</td>\n",
       "      <td>1</td>\n",
       "      <td>0.0</td>\n",
       "      <td>2</td>\n",
       "      <td>0</td>\n",
       "      <td>0</td>\n",
       "      <td>93826.63</td>\n",
       "      <td>0</td>\n",
       "      <td>1</td>\n",
       "      <td>0</td>\n",
       "    </tr>\n",
       "    <tr>\n",
       "      <th>4</th>\n",
       "      <td>850</td>\n",
       "      <td>2</td>\n",
       "      <td>43</td>\n",
       "      <td>2</td>\n",
       "      <td>1.0</td>\n",
       "      <td>1</td>\n",
       "      <td>1</td>\n",
       "      <td>1</td>\n",
       "      <td>79084.10</td>\n",
       "      <td>0</td>\n",
       "      <td>1</td>\n",
       "      <td>0</td>\n",
       "    </tr>\n",
       "  </tbody>\n",
       "</table>\n",
       "</div>\n",
       "      <button class=\"colab-df-convert\" onclick=\"convertToInteractive('df-79f6c5b7-6f36-42ec-be83-17530c15487e')\"\n",
       "              title=\"Convert this dataframe to an interactive table.\"\n",
       "              style=\"display:none;\">\n",
       "        \n",
       "  <svg xmlns=\"http://www.w3.org/2000/svg\" height=\"24px\"viewBox=\"0 0 24 24\"\n",
       "       width=\"24px\">\n",
       "    <path d=\"M0 0h24v24H0V0z\" fill=\"none\"/>\n",
       "    <path d=\"M18.56 5.44l.94 2.06.94-2.06 2.06-.94-2.06-.94-.94-2.06-.94 2.06-2.06.94zm-11 1L8.5 8.5l.94-2.06 2.06-.94-2.06-.94L8.5 2.5l-.94 2.06-2.06.94zm10 10l.94 2.06.94-2.06 2.06-.94-2.06-.94-.94-2.06-.94 2.06-2.06.94z\"/><path d=\"M17.41 7.96l-1.37-1.37c-.4-.4-.92-.59-1.43-.59-.52 0-1.04.2-1.43.59L10.3 9.45l-7.72 7.72c-.78.78-.78 2.05 0 2.83L4 21.41c.39.39.9.59 1.41.59.51 0 1.02-.2 1.41-.59l7.78-7.78 2.81-2.81c.8-.78.8-2.07 0-2.86zM5.41 20L4 18.59l7.72-7.72 1.47 1.35L5.41 20z\"/>\n",
       "  </svg>\n",
       "      </button>\n",
       "      \n",
       "  <style>\n",
       "    .colab-df-container {\n",
       "      display:flex;\n",
       "      flex-wrap:wrap;\n",
       "      gap: 12px;\n",
       "    }\n",
       "\n",
       "    .colab-df-convert {\n",
       "      background-color: #E8F0FE;\n",
       "      border: none;\n",
       "      border-radius: 50%;\n",
       "      cursor: pointer;\n",
       "      display: none;\n",
       "      fill: #1967D2;\n",
       "      height: 32px;\n",
       "      padding: 0 0 0 0;\n",
       "      width: 32px;\n",
       "    }\n",
       "\n",
       "    .colab-df-convert:hover {\n",
       "      background-color: #E2EBFA;\n",
       "      box-shadow: 0px 1px 2px rgba(60, 64, 67, 0.3), 0px 1px 3px 1px rgba(60, 64, 67, 0.15);\n",
       "      fill: #174EA6;\n",
       "    }\n",
       "\n",
       "    [theme=dark] .colab-df-convert {\n",
       "      background-color: #3B4455;\n",
       "      fill: #D2E3FC;\n",
       "    }\n",
       "\n",
       "    [theme=dark] .colab-df-convert:hover {\n",
       "      background-color: #434B5C;\n",
       "      box-shadow: 0px 1px 3px 1px rgba(0, 0, 0, 0.15);\n",
       "      filter: drop-shadow(0px 1px 2px rgba(0, 0, 0, 0.3));\n",
       "      fill: #FFFFFF;\n",
       "    }\n",
       "  </style>\n",
       "\n",
       "      <script>\n",
       "        const buttonEl =\n",
       "          document.querySelector('#df-79f6c5b7-6f36-42ec-be83-17530c15487e button.colab-df-convert');\n",
       "        buttonEl.style.display =\n",
       "          google.colab.kernel.accessAllowed ? 'block' : 'none';\n",
       "\n",
       "        async function convertToInteractive(key) {\n",
       "          const element = document.querySelector('#df-79f6c5b7-6f36-42ec-be83-17530c15487e');\n",
       "          const dataTable =\n",
       "            await google.colab.kernel.invokeFunction('convertToInteractive',\n",
       "                                                     [key], {});\n",
       "          if (!dataTable) return;\n",
       "\n",
       "          const docLinkHtml = 'Like what you see? Visit the ' +\n",
       "            '<a target=\"_blank\" href=https://colab.research.google.com/notebooks/data_table.ipynb>data table notebook</a>'\n",
       "            + ' to learn more about interactive tables.';\n",
       "          element.innerHTML = '';\n",
       "          dataTable['output_type'] = 'display_data';\n",
       "          await google.colab.output.renderOutput(dataTable, element);\n",
       "          const docLink = document.createElement('div');\n",
       "          docLink.innerHTML = docLinkHtml;\n",
       "          element.appendChild(docLink);\n",
       "        }\n",
       "      </script>\n",
       "    </div>\n",
       "  </div>\n",
       "  "
      ],
      "text/plain": [
       "   CreditScore  Geography  Age  Tenure  Balance  NumOfProducts  HasCrCard  \\\n",
       "0          619          0   42       2      0.0              1          1   \n",
       "1          608          2   41       1      0.0              1          0   \n",
       "2          502          0   42       8      1.0              3          1   \n",
       "3          699          0   39       1      0.0              2          0   \n",
       "4          850          2   43       2      1.0              1          1   \n",
       "\n",
       "   IsActiveMember  EstimatedSalary  Exited  Gender_Female  Gender_Male  \n",
       "0               1        101348.88       1              1            0  \n",
       "1               1        112542.58       0              1            0  \n",
       "2               0        113931.57       1              1            0  \n",
       "3               0         93826.63       0              1            0  \n",
       "4               1         79084.10       0              1            0  "
      ]
     },
     "execution_count": 74,
     "metadata": {},
     "output_type": "execute_result"
    }
   ],
   "source": [
    "AttList = [\"RowNumber\", \"CustomerId\", \"Surname\", \"CategoricalCreditScore\", \"CategoricalAge\", \"CategoricalBalance\"]\n",
    "data_encoder = data_encoder.drop(AttList, axis=1)\n",
    "data_encoder.head()"
   ]
  },
  {
   "cell_type": "code",
   "execution_count": 75,
   "metadata": {
    "_uuid": "2e882daa4e3e1f47d8cea24cb2d2cc44dc3c400f",
    "colab": {
     "base_uri": "https://localhost:8080/"
    },
    "id": "hOPTf10RZHS9",
    "inputHidden": false,
    "outputHidden": false,
    "outputId": "34e7a767-2ebd-4dee-f756-2e806baf95ba"
   },
   "outputs": [
    {
     "name": "stdout",
     "output_type": "stream",
     "text": [
      "Train rows and columns :  (6000, 11)\n",
      "Test rows and columns :  (4000, 11)\n"
     ]
    }
   ],
   "source": [
    "# Split Train and Test and check shape \n",
    "data_train_encoder, target_train_encoder, data_test_encoder, target_test_encoder = SplitDataFrameToTrainAndTest(data_encoder, 0.6, 'Exited')\n",
    "PrintTrainTestInformation(data_train_encoder, target_train_encoder, data_test_encoder, target_test_encoder)"
   ]
  },
  {
   "cell_type": "markdown",
   "metadata": {
    "_uuid": "30bf2de9231ca01c9eba87a523d772d8e321c57e",
    "id": "rA47p6pLZHS_"
   },
   "source": [
    "## **Classification by trainditional models** "
   ]
  },
  {
   "cell_type": "code",
   "execution_count": 76,
   "metadata": {
    "_uuid": "eae9568a2caa8fbf9a1dc0588365e6c89355ce07",
    "id": "zYEIbrtkZHTA",
    "inputHidden": false,
    "outputHidden": false
   },
   "outputs": [],
   "source": [
    "X_train = data_train_encoder\n",
    "y_train = target_train_encoder\n",
    "X_test = data_test_encoder\n",
    "y_test = target_test_encoder"
   ]
  },
  {
   "cell_type": "code",
   "execution_count": 77,
   "metadata": {
    "_uuid": "59338539e0e38208fea735907258eb3b94c0149d",
    "colab": {
     "base_uri": "https://localhost:8080/"
    },
    "id": "ZQR88TwiZHTC",
    "outputId": "d6aa8fe8-a911-4d11-ea9e-c4e2a729b168"
   },
   "outputs": [
    {
     "name": "stdout",
     "output_type": "stream",
     "text": [
      "Naive Bayes accuracy: 0.770\n",
      "Logistic Regression accuracy: 0.785\n",
      "Random Forest accuracy: 0.850250\n",
      "Linear SVM accuracy: 0.798250\n",
      "RBF SVM accuracy: 0.798250\n",
      "K Nearest Neighbor accuracy: 0.736250\n",
      "ANN accuracy: 0.798000\n"
     ]
    }
   ],
   "source": [
    "MachineLearningModelEvaluate(X_train, y_train, X_test, y_test)"
   ]
  },
  {
   "cell_type": "code",
   "execution_count": 78,
   "metadata": {
    "_uuid": "caf656541f6d31a29f53a28af9fc3e8bd9e0872f",
    "colab": {
     "base_uri": "https://localhost:8080/"
    },
    "id": "YX2CeWvIZHTF",
    "inputHidden": false,
    "outputHidden": false,
    "outputId": "ef638ac6-0a07-4311-a55e-6d0b6d8b4d18"
   },
   "outputs": [
    {
     "data": {
      "text/plain": [
       "Exited             1.000000\n",
       "Age                0.081409\n",
       "IsActiveMember     0.024376\n",
       "Balance            0.014050\n",
       "NumOfProducts      0.002287\n",
       "CreditScore        0.000734\n",
       "RowNumber          0.000275\n",
       "Tenure             0.000196\n",
       "EstimatedSalary    0.000146\n",
       "HasCrCard          0.000051\n",
       "CustomerId         0.000039\n",
       "Name: Exited, dtype: float64"
      ]
     },
     "execution_count": 78,
     "metadata": {},
     "output_type": "execute_result"
    }
   ],
   "source": [
    "## get the most important variables. \n",
    "corr = dataset.corr()**2\n",
    "corr.Exited.sort_values(ascending=False)"
   ]
  },
  {
   "cell_type": "code",
   "execution_count": 79,
   "metadata": {
    "_uuid": "99d38e3d78e09364544f17b37ce2a087c1d290a9",
    "colab": {
     "base_uri": "https://localhost:8080/",
     "height": 576
    },
    "id": "nj8x2NEzZHTI",
    "inputHidden": false,
    "outputHidden": false,
    "outputId": "ba2d9122-d57f-48fa-d76c-247ca72b1f3d"
   },
   "outputs": [
    {
     "data": {
      "image/png": "[encoded data removed]",
      "text/plain": [
       "<Figure size 720x576 with 2 Axes>"
      ]
     },
     "metadata": {
      "needs_background": "light"
     },
     "output_type": "display_data"
    }
   ],
   "source": [
    "# Heatmeap to see the correlation between features. \n",
    "# Generate a mask for the upper triangle (taken from seaborn example gallery)\n",
    "mask = np.zeros_like(dataset.corr(), dtype=np.bool)\n",
    "mask[np.triu_indices_from(mask)] = True\n",
    "# plot\n",
    "plt.subplots(figsize = (10,8))\n",
    "sns.heatmap(dataset.corr(), annot=True, mask = mask, cmap = 'RdBu_r', linewidths=0.1, linecolor='white', vmax = .9, square=True)\n",
    "plt.title(\"Correlations Among Features\", y = 1.03,fontsize = 20);"
   ]
  },
  {
   "cell_type": "code",
   "execution_count": 80,
   "metadata": {
    "_uuid": "e61ec191fbbd3bd6027739a5abd752917c4714a5",
    "colab": {
     "base_uri": "https://localhost:8080/",
     "height": 421
    },
    "id": "sl4ll2juZHTK",
    "inputHidden": false,
    "outputHidden": false,
    "outputId": "aa9d8abb-0fe2-41fd-c5fb-0dbc7e8bf106"
   },
   "outputs": [
    {
     "name": "stdout",
     "output_type": "stream",
     "text": [
      "   NumOfProducts    Exited\n",
      "3              4  1.000000\n",
      "2              3  0.827068\n",
      "0              1  0.277144\n",
      "1              2  0.075817\n"
     ]
    },
    {
     "data": {
      "image/png": "[encoded data removed]",
      "text/plain": [
       "<Figure size 720x360 with 2 Axes>"
      ]
     },
     "metadata": {
      "needs_background": "light"
     },
     "output_type": "display_data"
    }
   ],
   "source": [
    "print(dataset[['NumOfProducts', 'Exited']].groupby(['NumOfProducts'], as_index=False).mean().sort_values(by='Exited', ascending=False))\n",
    "CatPlot(dataset, 'NumOfProducts','Exited', {0: \"black\", 1: \"orange\"} )"
   ]
  },
  {
   "cell_type": "code",
   "execution_count": 81,
   "metadata": {
    "_uuid": "28d24cd8e4408578219f43f770146b9da497f035",
    "colab": {
     "base_uri": "https://localhost:8080/",
     "height": 386
    },
    "id": "p0WFy7EwZHTN",
    "inputHidden": false,
    "outputHidden": false,
    "outputId": "4ae29e91-5300-4e1c-9337-549390f14d04"
   },
   "outputs": [
    {
     "name": "stdout",
     "output_type": "stream",
     "text": [
      "   IsActiveMember    Exited\n",
      "0               0  0.268509\n",
      "1               1  0.142691\n"
     ]
    },
    {
     "data": {
      "image/png": "[encoded data removed]",
      "text/plain": [
       "<Figure size 720x360 with 2 Axes>"
      ]
     },
     "metadata": {
      "needs_background": "light"
     },
     "output_type": "display_data"
    }
   ],
   "source": [
    "print(dataset[['IsActiveMember', 'Exited']].groupby(['IsActiveMember'], as_index=False).mean().sort_values(by='Exited', ascending=False))\n",
    "CatPlot(dataset, 'IsActiveMember','Exited', {0: \"black\", 1: \"orange\"} )"
   ]
  },
  {
   "cell_type": "code",
   "execution_count": 82,
   "metadata": {
    "_uuid": "6d6e04866027738387bc2b9f74f7431cdbc8bb5e",
    "colab": {
     "base_uri": "https://localhost:8080/",
     "height": 567
    },
    "id": "y0okX6-qZHTQ",
    "inputHidden": false,
    "outputHidden": false,
    "outputId": "20cfd339-35e9-481a-92c4-4e3a503852b6"
   },
   "outputs": [
    {
     "data": {
      "text/plain": [
       "<seaborn.axisgrid.PairGrid at 0x7fdc3486d3d0>"
      ]
     },
     "execution_count": 82,
     "metadata": {},
     "output_type": "execute_result"
    },
    {
     "data": {
      "image/png": "[encoded data removed]",
      "text/plain": [
       "<Figure size 582.375x540 with 12 Axes>"
      ]
     },
     "metadata": {
      "needs_background": "light"
     },
     "output_type": "display_data"
    }
   ],
   "source": [
    "# https://seaborn.pydata.org/generated/seaborn.pairplot.html\n",
    "sns.pairplot(dataset, vars=[\"NumOfProducts\", \"IsActiveMember\", \"Balance\"], hue=\"Exited\")"
   ]
  },
  {
   "cell_type": "code",
   "execution_count": 83,
   "metadata": {
    "_uuid": "1eace166d0242bcdfe1fb7bb0785c2b68cfc0608",
    "colab": {
     "base_uri": "https://localhost:8080/",
     "height": 358
    },
    "id": "8KDM9OEMZHTS",
    "inputHidden": false,
    "outputHidden": false,
    "outputId": "38d4399d-35ed-4b8b-9951-296055949973"
   },
   "outputs": [
    {
     "data": {
      "text/plain": [
       "<matplotlib.axes._subplots.AxesSubplot at 0x7fdc2e298ee0>"
      ]
     },
     "execution_count": 83,
     "metadata": {},
     "output_type": "execute_result"
    },
    {
     "data": {
      "image/png": "[encoded data removed]",
      "text/plain": [
       "<Figure size 432x288 with 2 Axes>"
      ]
     },
     "metadata": {
      "needs_background": "light"
     },
     "output_type": "display_data"
    }
   ],
   "source": [
    "AttList = [\"CreditScore\",\t\"Age\",\t\"Tenure\",\t\"Balance\",\t\"NumOfProducts\",\t\"HasCrCard\",\t\"IsActiveMember\",\t\"EstimatedSalary\"]\n",
    "correlation_matrix = dataset[AttList].corr().round(2)\n",
    "# annot = True to print the values inside the square\n",
    "sns.heatmap(data=correlation_matrix, annot=True)"
   ]
  },
  {
   "cell_type": "code",
   "execution_count": 84,
   "metadata": {
    "_uuid": "39d59fb6f2718d5a6f041ec85f15e06730303bb2",
    "colab": {
     "base_uri": "https://localhost:8080/",
     "height": 224
    },
    "id": "Mg3DWkuRZHTW",
    "inputHidden": false,
    "outputHidden": false,
    "outputId": "35438ce1-32ea-4117-86a7-ed071f681b8d"
   },
   "outputs": [
    {
     "name": "stdout",
     "output_type": "stream",
     "text": [
      "(10000, 12)\n"
     ]
    },
    {
     "data": {
      "text/html": [
       "\n",
       "  <div id=\"df-8201380b-5a13-42d2-b301-f210b79523ae\">\n",
       "    <div class=\"colab-df-container\">\n",
       "      <div>\n",
       "<style scoped>\n",
       "    .dataframe tbody tr th:only-of-type {\n",
       "        vertical-align: middle;\n",
       "    }\n",
       "\n",
       "    .dataframe tbody tr th {\n",
       "        vertical-align: top;\n",
       "    }\n",
       "\n",
       "    .dataframe thead th {\n",
       "        text-align: right;\n",
       "    }\n",
       "</style>\n",
       "<table border=\"1\" class=\"dataframe\">\n",
       "  <thead>\n",
       "    <tr style=\"text-align: right;\">\n",
       "      <th></th>\n",
       "      <th>CreditScore</th>\n",
       "      <th>Geography</th>\n",
       "      <th>Age</th>\n",
       "      <th>Tenure</th>\n",
       "      <th>Balance</th>\n",
       "      <th>NumOfProducts</th>\n",
       "      <th>HasCrCard</th>\n",
       "      <th>IsActiveMember</th>\n",
       "      <th>EstimatedSalary</th>\n",
       "      <th>Exited</th>\n",
       "      <th>Gender_Female</th>\n",
       "      <th>Gender_Male</th>\n",
       "    </tr>\n",
       "  </thead>\n",
       "  <tbody>\n",
       "    <tr>\n",
       "      <th>0</th>\n",
       "      <td>619</td>\n",
       "      <td>0</td>\n",
       "      <td>42</td>\n",
       "      <td>2</td>\n",
       "      <td>0.0</td>\n",
       "      <td>1</td>\n",
       "      <td>1</td>\n",
       "      <td>1</td>\n",
       "      <td>101348.88</td>\n",
       "      <td>1</td>\n",
       "      <td>1</td>\n",
       "      <td>0</td>\n",
       "    </tr>\n",
       "    <tr>\n",
       "      <th>1</th>\n",
       "      <td>608</td>\n",
       "      <td>2</td>\n",
       "      <td>41</td>\n",
       "      <td>1</td>\n",
       "      <td>0.0</td>\n",
       "      <td>1</td>\n",
       "      <td>0</td>\n",
       "      <td>1</td>\n",
       "      <td>112542.58</td>\n",
       "      <td>0</td>\n",
       "      <td>1</td>\n",
       "      <td>0</td>\n",
       "    </tr>\n",
       "    <tr>\n",
       "      <th>2</th>\n",
       "      <td>502</td>\n",
       "      <td>0</td>\n",
       "      <td>42</td>\n",
       "      <td>8</td>\n",
       "      <td>1.0</td>\n",
       "      <td>3</td>\n",
       "      <td>1</td>\n",
       "      <td>0</td>\n",
       "      <td>113931.57</td>\n",
       "      <td>1</td>\n",
       "      <td>1</td>\n",
       "      <td>0</td>\n",
       "    </tr>\n",
       "    <tr>\n",
       "      <th>3</th>\n",
       "      <td>699</td>\n",
       "      <td>0</td>\n",
       "      <td>39</td>\n",
       "      <td>1</td>\n",
       "      <td>0.0</td>\n",
       "      <td>2</td>\n",
       "      <td>0</td>\n",
       "      <td>0</td>\n",
       "      <td>93826.63</td>\n",
       "      <td>0</td>\n",
       "      <td>1</td>\n",
       "      <td>0</td>\n",
       "    </tr>\n",
       "    <tr>\n",
       "      <th>4</th>\n",
       "      <td>850</td>\n",
       "      <td>2</td>\n",
       "      <td>43</td>\n",
       "      <td>2</td>\n",
       "      <td>1.0</td>\n",
       "      <td>1</td>\n",
       "      <td>1</td>\n",
       "      <td>1</td>\n",
       "      <td>79084.10</td>\n",
       "      <td>0</td>\n",
       "      <td>1</td>\n",
       "      <td>0</td>\n",
       "    </tr>\n",
       "  </tbody>\n",
       "</table>\n",
       "</div>\n",
       "      <button class=\"colab-df-convert\" onclick=\"convertToInteractive('df-8201380b-5a13-42d2-b301-f210b79523ae')\"\n",
       "              title=\"Convert this dataframe to an interactive table.\"\n",
       "              style=\"display:none;\">\n",
       "        \n",
       "  <svg xmlns=\"http://www.w3.org/2000/svg\" height=\"24px\"viewBox=\"0 0 24 24\"\n",
       "       width=\"24px\">\n",
       "    <path d=\"M0 0h24v24H0V0z\" fill=\"none\"/>\n",
       "    <path d=\"M18.56 5.44l.94 2.06.94-2.06 2.06-.94-2.06-.94-.94-2.06-.94 2.06-2.06.94zm-11 1L8.5 8.5l.94-2.06 2.06-.94-2.06-.94L8.5 2.5l-.94 2.06-2.06.94zm10 10l.94 2.06.94-2.06 2.06-.94-2.06-.94-.94-2.06-.94 2.06-2.06.94z\"/><path d=\"M17.41 7.96l-1.37-1.37c-.4-.4-.92-.59-1.43-.59-.52 0-1.04.2-1.43.59L10.3 9.45l-7.72 7.72c-.78.78-.78 2.05 0 2.83L4 21.41c.39.39.9.59 1.41.59.51 0 1.02-.2 1.41-.59l7.78-7.78 2.81-2.81c.8-.78.8-2.07 0-2.86zM5.41 20L4 18.59l7.72-7.72 1.47 1.35L5.41 20z\"/>\n",
       "  </svg>\n",
       "      </button>\n",
       "      \n",
       "  <style>\n",
       "    .colab-df-container {\n",
       "      display:flex;\n",
       "      flex-wrap:wrap;\n",
       "      gap: 12px;\n",
       "    }\n",
       "\n",
       "    .colab-df-convert {\n",
       "      background-color: #E8F0FE;\n",
       "      border: none;\n",
       "      border-radius: 50%;\n",
       "      cursor: pointer;\n",
       "      display: none;\n",
       "      fill: #1967D2;\n",
       "      height: 32px;\n",
       "      padding: 0 0 0 0;\n",
       "      width: 32px;\n",
       "    }\n",
       "\n",
       "    .colab-df-convert:hover {\n",
       "      background-color: #E2EBFA;\n",
       "      box-shadow: 0px 1px 2px rgba(60, 64, 67, 0.3), 0px 1px 3px 1px rgba(60, 64, 67, 0.15);\n",
       "      fill: #174EA6;\n",
       "    }\n",
       "\n",
       "    [theme=dark] .colab-df-convert {\n",
       "      background-color: #3B4455;\n",
       "      fill: #D2E3FC;\n",
       "    }\n",
       "\n",
       "    [theme=dark] .colab-df-convert:hover {\n",
       "      background-color: #434B5C;\n",
       "      box-shadow: 0px 1px 3px 1px rgba(0, 0, 0, 0.15);\n",
       "      filter: drop-shadow(0px 1px 2px rgba(0, 0, 0, 0.3));\n",
       "      fill: #FFFFFF;\n",
       "    }\n",
       "  </style>\n",
       "\n",
       "      <script>\n",
       "        const buttonEl =\n",
       "          document.querySelector('#df-8201380b-5a13-42d2-b301-f210b79523ae button.colab-df-convert');\n",
       "        buttonEl.style.display =\n",
       "          google.colab.kernel.accessAllowed ? 'block' : 'none';\n",
       "\n",
       "        async function convertToInteractive(key) {\n",
       "          const element = document.querySelector('#df-8201380b-5a13-42d2-b301-f210b79523ae');\n",
       "          const dataTable =\n",
       "            await google.colab.kernel.invokeFunction('convertToInteractive',\n",
       "                                                     [key], {});\n",
       "          if (!dataTable) return;\n",
       "\n",
       "          const docLinkHtml = 'Like what you see? Visit the ' +\n",
       "            '<a target=\"_blank\" href=https://colab.research.google.com/notebooks/data_table.ipynb>data table notebook</a>'\n",
       "            + ' to learn more about interactive tables.';\n",
       "          element.innerHTML = '';\n",
       "          dataTable['output_type'] = 'display_data';\n",
       "          await google.colab.output.renderOutput(dataTable, element);\n",
       "          const docLink = document.createElement('div');\n",
       "          docLink.innerHTML = docLinkHtml;\n",
       "          element.appendChild(docLink);\n",
       "        }\n",
       "      </script>\n",
       "    </div>\n",
       "  </div>\n",
       "  "
      ],
      "text/plain": [
       "   CreditScore  Geography  Age  Tenure  Balance  NumOfProducts  HasCrCard  \\\n",
       "0          619          0   42       2      0.0              1          1   \n",
       "1          608          2   41       1      0.0              1          0   \n",
       "2          502          0   42       8      1.0              3          1   \n",
       "3          699          0   39       1      0.0              2          0   \n",
       "4          850          2   43       2      1.0              1          1   \n",
       "\n",
       "   IsActiveMember  EstimatedSalary  Exited  Gender_Female  Gender_Male  \n",
       "0               1        101348.88       1              1            0  \n",
       "1               1        112542.58       0              1            0  \n",
       "2               0        113931.57       1              1            0  \n",
       "3               0         93826.63       0              1            0  \n",
       "4               1         79084.10       0              1            0  "
      ]
     },
     "execution_count": 84,
     "metadata": {},
     "output_type": "execute_result"
    }
   ],
   "source": [
    "data_encoder_feselection = data_encoder.copy()\n",
    "# AttList = [\"Surname\", \"RowNumber\", \"CustomerId\"]\n",
    "# data_encoder_feselection = data_encoder_feselection.drop(AttList,  axis=1)\n",
    "print(data_encoder_feselection.shape)\n",
    "data_encoder_feselection.head()"
   ]
  },
  {
   "cell_type": "code",
   "execution_count": 85,
   "metadata": {
    "_uuid": "8c1b3a87174a5d2b87af9cc23b4f9b2f0df37559",
    "colab": {
     "base_uri": "https://localhost:8080/"
    },
    "id": "bVgwvQ-sZHTY",
    "inputHidden": false,
    "outputHidden": false,
    "outputId": "9ddaac76-5307-4fe2-eda6-e6fecc96a7d3"
   },
   "outputs": [
    {
     "name": "stdout",
     "output_type": "stream",
     "text": [
      "Train rows and columns :  (6000, 11)\n",
      "Test rows and columns :  (4000, 11)\n"
     ]
    }
   ],
   "source": [
    "# Split Train and Test and check shape \n",
    "data_train_encoder_feselection, target_train_encoder_feselection, data_test_encoder_feselection, target_test_encoder_feselection = SplitDataFrameToTrainAndTest(data_encoder_feselection, 0.6, 'Exited')\n",
    "PrintTrainTestInformation(data_train_encoder_feselection, target_train_encoder_feselection, data_test_encoder_feselection, target_test_encoder_feselection)"
   ]
  },
  {
   "cell_type": "code",
   "execution_count": 86,
   "metadata": {
    "_uuid": "53770b786bd5f8c1dafc30a7e2a5c545998807dc",
    "colab": {
     "base_uri": "https://localhost:8080/"
    },
    "id": "ESjxO2ICZHTa",
    "inputHidden": false,
    "outputHidden": false,
    "outputId": "d8ce79c2-53a2-488e-837d-92b7cc0dbf91"
   },
   "outputs": [
    {
     "name": "stdout",
     "output_type": "stream",
     "text": [
      "Naive Bayes accuracy: 0.770\n",
      "Logistic Regression accuracy: 0.785\n",
      "Random Forest accuracy: 0.853250\n",
      "Linear SVM accuracy: 0.798250\n",
      "RBF SVM accuracy: 0.798250\n",
      "K Nearest Neighbor accuracy: 0.736250\n",
      "ANN accuracy: 0.797750\n"
     ]
    }
   ],
   "source": [
    "# Retest all traditional classification approaches\n",
    "X_train = data_train_encoder\n",
    "y_train = target_train_encoder\n",
    "X_test = data_test_encoder\n",
    "y_test = target_test_encoder\n",
    "\n",
    "MachineLearningModelEvaluate(X_train, y_train, X_test, y_test)"
   ]
  },
  {
   "cell_type": "code",
   "execution_count": 87,
   "metadata": {
    "_uuid": "09641944a5cc686e59fc353fd26fef1383fba49f",
    "colab": {
     "base_uri": "https://localhost:8080/"
    },
    "id": "nnOyl2YEZHTb",
    "inputHidden": false,
    "outputHidden": false,
    "outputId": "1aedb68c-c562-43c5-f763-64d765a81211"
   },
   "outputs": [
    {
     "name": "stdout",
     "output_type": "stream",
     "text": [
      "Naive Bayes accuracy: 0.770\n",
      "Logistic Regression accuracy: 0.785\n",
      "Random Forest accuracy: 0.851750\n",
      "Linear SVM accuracy: 0.798250\n",
      "RBF SVM accuracy: 0.798250\n",
      "K Nearest Neighbor accuracy: 0.736250\n",
      "ANN accuracy: 0.798000\n"
     ]
    }
   ],
   "source": [
    "# Retest all traditional classification approaches\n",
    "X_train = data_train_encoder_feselection\n",
    "y_train = target_train_encoder_feselection\n",
    "X_test = data_test_encoder_feselection\n",
    "y_test = target_test_encoder_feselection\n",
    "\n",
    "MachineLearningModelEvaluate(X_train, y_train, X_test, y_test)"
   ]
  },
  {
   "cell_type": "markdown",
   "metadata": {
    "_uuid": "143dc9ac38cdb09259230a079ba767e9982fd086",
    "id": "q6xzyKiiZHTd"
   },
   "source": [
    "## Feature Importances"
   ]
  },
  {
   "cell_type": "code",
   "execution_count": 88,
   "metadata": {
    "_uuid": "641761052d4d607395296d13621b9123e0e75d4d",
    "colab": {
     "base_uri": "https://localhost:8080/",
     "height": 312
    },
    "id": "zscJywimZHTe",
    "inputHidden": false,
    "outputHidden": false,
    "outputId": "abe1dc59-a7a0-4746-b10f-8ab6c809c4d3"
   },
   "outputs": [
    {
     "name": "stdout",
     "output_type": "stream",
     "text": [
      "(6000, 11)\n"
     ]
    },
    {
     "data": {
      "image/png": "[encoded data removed]",
      "text/plain": [
       "<Figure size 432x288 with 1 Axes>"
      ]
     },
     "metadata": {
      "needs_background": "light"
     },
     "output_type": "display_data"
    }
   ],
   "source": [
    "model = RandomForestRegressor(random_state=1, max_depth=10)\n",
    "model.fit(data_train_encoder,target_train_encoder.values.ravel())\n",
    "\n",
    "print(data_train_encoder.shape)\n",
    "features = data_train_encoder.columns\n",
    "importances = model.feature_importances_\n",
    "indices = np.argsort(importances)[-len(features):]  # top features\n",
    "plt.title('Feature Importances')\n",
    "plt.barh(range(len(indices)), importances[indices], color='b', align='center')\n",
    "plt.yticks(range(len(indices)), [features[i] for i in indices])\n",
    "plt.xlabel('Relative Importance')\n",
    "plt.show()"
   ]
  },
  {
   "cell_type": "code",
   "execution_count": 89,
   "metadata": {
    "_uuid": "281000a95e0aa5bc1407d197632b02806ea15b01",
    "colab": {
     "base_uri": "https://localhost:8080/"
    },
    "id": "E_lVAh25ZHTh",
    "inputHidden": false,
    "outputHidden": false,
    "outputId": "8822dbd8-0869-429b-b843-4e52542eb19a"
   },
   "outputs": [
    {
     "name": "stdout",
     "output_type": "stream",
     "text": [
      "Variable: Age                  Importance: 0.31\n",
      "Variable: NumOfProducts        Importance: 0.18\n",
      "Variable: EstimatedSalary      Importance: 0.14\n",
      "Variable: CreditScore          Importance: 0.13\n",
      "Variable: IsActiveMember       Importance: 0.1\n",
      "Variable: Tenure               Importance: 0.06\n",
      "Variable: Geography            Importance: 0.04\n",
      "Variable: Balance              Importance: 0.02\n",
      "Variable: HasCrCard            Importance: 0.01\n",
      "Variable: Gender_Female        Importance: 0.01\n",
      "Variable: Gender_Male          Importance: 0.01\n"
     ]
    }
   ],
   "source": [
    "# Get numerical feature importances\n",
    "feature_list = list(data_train_encoder.columns)\n",
    "importances = list(model.feature_importances_)\n",
    "# List of tuples with variable and importance\n",
    "feature_importances = [(feature, round(importance, 2)) for feature, importance in zip(feature_list, importances)]\n",
    "# Sort the feature importances by most important first\n",
    "feature_importances = sorted(feature_importances, key = lambda x: x[1], reverse = True)\n",
    "# Print out the feature and importances \n",
    "[print('Variable: {:20} Importance: {}'.format(*pair)) for pair in feature_importances];"
   ]
  },
  {
   "cell_type": "code",
   "execution_count": 90,
   "metadata": {
    "_uuid": "38c6134e494a22e9d15fac4908ba44ceadbede3a",
    "colab": {
     "base_uri": "https://localhost:8080/"
    },
    "id": "Wz0Dbb9BZHTk",
    "inputHidden": false,
    "outputHidden": false,
    "outputId": "18f9b118-9f54-46d2-f556-d164776a9201"
   },
   "outputs": [
    {
     "name": "stdout",
     "output_type": "stream",
     "text": [
      "Train rows and columns :  (6000, 7)\n",
      "Test rows and columns :  (4000, 7)\n"
     ]
    }
   ],
   "source": [
    "# Split Train and Test and check shape \n",
    "AttSelection = [\"Age\", \"NumOfProducts\", \"EstimatedSalary\", \"CreditScore\", \"Tenure\", \"Geography\", \"Balance\",\n",
    "                \"Exited\"]\n",
    "\n",
    "data_train_encoder_feselection02, target_train_encoder_feselection02, data_test_encoder_feselection02, target_test_encoder_feselection02 = SplitDataFrameToTrainAndTest(data_encoder[AttSelection], 0.6, 'Exited')\n",
    "PrintTrainTestInformation(data_train_encoder_feselection02, target_train_encoder_feselection02, data_test_encoder_feselection02, target_test_encoder_feselection02)"
   ]
  },
  {
   "cell_type": "code",
   "execution_count": 91,
   "metadata": {
    "_uuid": "110fdd7893da577d8074a2fa85c0748b50544b9c",
    "colab": {
     "base_uri": "https://localhost:8080/"
    },
    "id": "pgc-vtR5ZHTn",
    "inputHidden": false,
    "outputHidden": false,
    "outputId": "823507bb-8503-4e83-c605-2206ad0dff62"
   },
   "outputs": [
    {
     "name": "stdout",
     "output_type": "stream",
     "text": [
      "Naive Bayes accuracy: 0.767\n",
      "Logistic Regression accuracy: 0.785\n",
      "Random Forest accuracy: 0.843500\n",
      "Linear SVM accuracy: 0.798250\n",
      "RBF SVM accuracy: 0.798250\n",
      "K Nearest Neighbor accuracy: 0.736000\n",
      "ANN accuracy: 0.797000\n"
     ]
    }
   ],
   "source": [
    "# Retest all traditional classification approaches\n",
    "X_train = data_train_encoder_feselection02\n",
    "y_train = target_train_encoder_feselection02\n",
    "X_test = data_test_encoder_feselection02\n",
    "y_test = target_test_encoder_feselection02\n",
    "\n",
    "MachineLearningModelEvaluate(X_train, y_train, X_test, y_test)"
   ]
  },
  {
   "cell_type": "code",
   "execution_count": 92,
   "metadata": {
    "_uuid": "bc20f0cba4d276f5b8dbbf96c6fcc58b0cb8dcde",
    "colab": {
     "base_uri": "https://localhost:8080/",
     "height": 394
    },
    "id": "V3CR9sltZHTo",
    "inputHidden": false,
    "outputHidden": false,
    "outputId": "4b41bb56-4b2e-4339-efef-bb2421f6881a"
   },
   "outputs": [
    {
     "data": {
      "text/html": [
       "\n",
       "  <div id=\"df-aeacf9fc-2692-4d67-a751-2eac640ad0e4\">\n",
       "    <div class=\"colab-df-container\">\n",
       "      <div>\n",
       "<style scoped>\n",
       "    .dataframe tbody tr th:only-of-type {\n",
       "        vertical-align: middle;\n",
       "    }\n",
       "\n",
       "    .dataframe tbody tr th {\n",
       "        vertical-align: top;\n",
       "    }\n",
       "\n",
       "    .dataframe thead th {\n",
       "        text-align: right;\n",
       "    }\n",
       "</style>\n",
       "<table border=\"1\" class=\"dataframe\">\n",
       "  <thead>\n",
       "    <tr style=\"text-align: right;\">\n",
       "      <th></th>\n",
       "      <th>Attributes</th>\n",
       "      <th>Ranking</th>\n",
       "      <th>Support</th>\n",
       "    </tr>\n",
       "  </thead>\n",
       "  <tbody>\n",
       "    <tr>\n",
       "      <th>1</th>\n",
       "      <td>Geography</td>\n",
       "      <td>1</td>\n",
       "      <td>True</td>\n",
       "    </tr>\n",
       "    <tr>\n",
       "      <th>4</th>\n",
       "      <td>Balance</td>\n",
       "      <td>1</td>\n",
       "      <td>True</td>\n",
       "    </tr>\n",
       "    <tr>\n",
       "      <th>5</th>\n",
       "      <td>NumOfProducts</td>\n",
       "      <td>1</td>\n",
       "      <td>True</td>\n",
       "    </tr>\n",
       "    <tr>\n",
       "      <th>7</th>\n",
       "      <td>IsActiveMember</td>\n",
       "      <td>1</td>\n",
       "      <td>True</td>\n",
       "    </tr>\n",
       "    <tr>\n",
       "      <th>10</th>\n",
       "      <td>Gender_Male</td>\n",
       "      <td>1</td>\n",
       "      <td>True</td>\n",
       "    </tr>\n",
       "    <tr>\n",
       "      <th>2</th>\n",
       "      <td>Age</td>\n",
       "      <td>2</td>\n",
       "      <td>False</td>\n",
       "    </tr>\n",
       "    <tr>\n",
       "      <th>9</th>\n",
       "      <td>Gender_Female</td>\n",
       "      <td>3</td>\n",
       "      <td>False</td>\n",
       "    </tr>\n",
       "    <tr>\n",
       "      <th>3</th>\n",
       "      <td>Tenure</td>\n",
       "      <td>4</td>\n",
       "      <td>False</td>\n",
       "    </tr>\n",
       "    <tr>\n",
       "      <th>6</th>\n",
       "      <td>HasCrCard</td>\n",
       "      <td>5</td>\n",
       "      <td>False</td>\n",
       "    </tr>\n",
       "    <tr>\n",
       "      <th>0</th>\n",
       "      <td>CreditScore</td>\n",
       "      <td>6</td>\n",
       "      <td>False</td>\n",
       "    </tr>\n",
       "    <tr>\n",
       "      <th>8</th>\n",
       "      <td>EstimatedSalary</td>\n",
       "      <td>7</td>\n",
       "      <td>False</td>\n",
       "    </tr>\n",
       "  </tbody>\n",
       "</table>\n",
       "</div>\n",
       "      <button class=\"colab-df-convert\" onclick=\"convertToInteractive('df-aeacf9fc-2692-4d67-a751-2eac640ad0e4')\"\n",
       "              title=\"Convert this dataframe to an interactive table.\"\n",
       "              style=\"display:none;\">\n",
       "        \n",
       "  <svg xmlns=\"http://www.w3.org/2000/svg\" height=\"24px\"viewBox=\"0 0 24 24\"\n",
       "       width=\"24px\">\n",
       "    <path d=\"M0 0h24v24H0V0z\" fill=\"none\"/>\n",
       "    <path d=\"M18.56 5.44l.94 2.06.94-2.06 2.06-.94-2.06-.94-.94-2.06-.94 2.06-2.06.94zm-11 1L8.5 8.5l.94-2.06 2.06-.94-2.06-.94L8.5 2.5l-.94 2.06-2.06.94zm10 10l.94 2.06.94-2.06 2.06-.94-2.06-.94-.94-2.06-.94 2.06-2.06.94z\"/><path d=\"M17.41 7.96l-1.37-1.37c-.4-.4-.92-.59-1.43-.59-.52 0-1.04.2-1.43.59L10.3 9.45l-7.72 7.72c-.78.78-.78 2.05 0 2.83L4 21.41c.39.39.9.59 1.41.59.51 0 1.02-.2 1.41-.59l7.78-7.78 2.81-2.81c.8-.78.8-2.07 0-2.86zM5.41 20L4 18.59l7.72-7.72 1.47 1.35L5.41 20z\"/>\n",
       "  </svg>\n",
       "      </button>\n",
       "      \n",
       "  <style>\n",
       "    .colab-df-container {\n",
       "      display:flex;\n",
       "      flex-wrap:wrap;\n",
       "      gap: 12px;\n",
       "    }\n",
       "\n",
       "    .colab-df-convert {\n",
       "      background-color: #E8F0FE;\n",
       "      border: none;\n",
       "      border-radius: 50%;\n",
       "      cursor: pointer;\n",
       "      display: none;\n",
       "      fill: #1967D2;\n",
       "      height: 32px;\n",
       "      padding: 0 0 0 0;\n",
       "      width: 32px;\n",
       "    }\n",
       "\n",
       "    .colab-df-convert:hover {\n",
       "      background-color: #E2EBFA;\n",
       "      box-shadow: 0px 1px 2px rgba(60, 64, 67, 0.3), 0px 1px 3px 1px rgba(60, 64, 67, 0.15);\n",
       "      fill: #174EA6;\n",
       "    }\n",
       "\n",
       "    [theme=dark] .colab-df-convert {\n",
       "      background-color: #3B4455;\n",
       "      fill: #D2E3FC;\n",
       "    }\n",
       "\n",
       "    [theme=dark] .colab-df-convert:hover {\n",
       "      background-color: #434B5C;\n",
       "      box-shadow: 0px 1px 3px 1px rgba(0, 0, 0, 0.15);\n",
       "      filter: drop-shadow(0px 1px 2px rgba(0, 0, 0, 0.3));\n",
       "      fill: #FFFFFF;\n",
       "    }\n",
       "  </style>\n",
       "\n",
       "      <script>\n",
       "        const buttonEl =\n",
       "          document.querySelector('#df-aeacf9fc-2692-4d67-a751-2eac640ad0e4 button.colab-df-convert');\n",
       "        buttonEl.style.display =\n",
       "          google.colab.kernel.accessAllowed ? 'block' : 'none';\n",
       "\n",
       "        async function convertToInteractive(key) {\n",
       "          const element = document.querySelector('#df-aeacf9fc-2692-4d67-a751-2eac640ad0e4');\n",
       "          const dataTable =\n",
       "            await google.colab.kernel.invokeFunction('convertToInteractive',\n",
       "                                                     [key], {});\n",
       "          if (!dataTable) return;\n",
       "\n",
       "          const docLinkHtml = 'Like what you see? Visit the ' +\n",
       "            '<a target=\"_blank\" href=https://colab.research.google.com/notebooks/data_table.ipynb>data table notebook</a>'\n",
       "            + ' to learn more about interactive tables.';\n",
       "          element.innerHTML = '';\n",
       "          dataTable['output_type'] = 'display_data';\n",
       "          await google.colab.output.renderOutput(dataTable, element);\n",
       "          const docLink = document.createElement('div');\n",
       "          docLink.innerHTML = docLinkHtml;\n",
       "          element.appendChild(docLink);\n",
       "        }\n",
       "      </script>\n",
       "    </div>\n",
       "  </div>\n",
       "  "
      ],
      "text/plain": [
       "         Attributes Ranking Support\n",
       "1         Geography       1    True\n",
       "4           Balance       1    True\n",
       "5     NumOfProducts       1    True\n",
       "7    IsActiveMember       1    True\n",
       "10      Gender_Male       1    True\n",
       "2               Age       2   False\n",
       "9     Gender_Female       3   False\n",
       "3            Tenure       4   False\n",
       "6         HasCrCard       5   False\n",
       "0       CreditScore       6   False\n",
       "8   EstimatedSalary       7   False"
      ]
     },
     "execution_count": 92,
     "metadata": {},
     "output_type": "execute_result"
    }
   ],
   "source": [
    "from sklearn.feature_selection import RFE\n",
    "from sklearn.linear_model import LogisticRegression\n",
    "import pandas as pd\n",
    "from sklearn.svm import SVR\n",
    "\n",
    "# Retest all traditional classification approaches\n",
    "X_train = data_train_encoder\n",
    "y_train = target_train_encoder\n",
    "X_test = data_test_encoder\n",
    "y_test = target_test_encoder\n",
    "\n",
    "LRModel = LogisticRegressionLearning(X_train, y_train)\n",
    "model = LRModel\n",
    "rfe = RFE(model)\n",
    "rfe = rfe.fit(X_train, y_train.values.ravel())\n",
    "\n",
    "feature_list = list(X_train.columns)\n",
    "RankStatistics = pd.DataFrame(columns=['Attributes', 'Ranking', 'Support'])\n",
    "for i, att, rank, suppport in zip(range(len(feature_list)), feature_list, rfe.ranking_, rfe.support_):\n",
    "    RankStatistics.loc[i] = [att, rank, suppport]\n",
    "RankStatistics = RankStatistics.sort_values('Ranking')\n",
    "\n",
    "RankStatistics"
   ]
  },
  {
   "cell_type": "code",
   "execution_count": 93,
   "metadata": {
    "_uuid": "894e63efa5309e758cb46fc6341b9d8c04b9d922",
    "colab": {
     "base_uri": "https://localhost:8080/"
    },
    "id": "ERyxF3nsZHTs",
    "inputHidden": false,
    "outputHidden": false,
    "outputId": "3d62fafe-3021-42a6-825d-1ca6c9d0dd88"
   },
   "outputs": [
    {
     "name": "stdout",
     "output_type": "stream",
     "text": [
      "Train rows and columns :  (6000, 5)\n",
      "Test rows and columns :  (4000, 5)\n"
     ]
    }
   ],
   "source": [
    "# Split Train and Test and check shape \n",
    "AttSelection = RankStatistics[(RankStatistics[\"Support\"] == True)]\n",
    "AttSelection = list(filter(lambda a: a not in [\"CustomerId\", \"Surname\"], AttSelection[\"Attributes\"]))\n",
    "AttSelection = AttSelection + ['Exited']\n",
    "\n",
    "data_train_encoder_feselection03, target_train_encoder_feselection03, data_test_encoder_feselection03, target_test_encoder_feselection03 = SplitDataFrameToTrainAndTest(data_encoder[AttSelection], 0.6, 'Exited')\n",
    "PrintTrainTestInformation(data_train_encoder_feselection03, target_train_encoder_feselection03, data_test_encoder_feselection03, target_test_encoder_feselection03)"
   ]
  },
  {
   "cell_type": "code",
   "execution_count": 94,
   "metadata": {
    "_uuid": "81187d8dc21de43592643abcfa60e5a30239b667",
    "colab": {
     "base_uri": "https://localhost:8080/"
    },
    "id": "rDLUhPGoZHTt",
    "inputHidden": false,
    "outputHidden": false,
    "outputId": "3fc54faf-91f4-4cb7-d34f-5da454b45173"
   },
   "outputs": [
    {
     "name": "stdout",
     "output_type": "stream",
     "text": [
      "Naive Bayes accuracy: 0.820\n",
      "Logistic Regression accuracy: 0.798\n",
      "Random Forest accuracy: 0.819500\n",
      "Linear SVM accuracy: 0.821500\n",
      "RBF SVM accuracy: 0.819500\n",
      "K Nearest Neighbor accuracy: 0.780000\n",
      "ANN accuracy: 0.821250\n"
     ]
    }
   ],
   "source": [
    "# Retest all traditional classification approaches\n",
    "X_train = data_train_encoder_feselection03\n",
    "y_train = target_train_encoder_feselection03\n",
    "X_test = data_test_encoder_feselection03\n",
    "y_test = target_test_encoder_feselection03\n",
    "\n",
    "MachineLearningModelEvaluate(X_train, y_train, X_test, y_test)"
   ]
  },
  {
   "cell_type": "code",
   "execution_count": 95,
   "metadata": {
    "_uuid": "01a6df5e99beb8c5b9cea6407acaf0510ad49b34",
    "colab": {
     "base_uri": "https://localhost:8080/",
     "height": 424
    },
    "id": "coRM9TVpZHTx",
    "inputHidden": false,
    "outputHidden": false,
    "outputId": "da444d6d-13b5-47d7-8bf6-e61d4f66bbf5"
   },
   "outputs": [
    {
     "data": {
      "text/html": [
       "\n",
       "  <div id=\"df-28b57948-ec85-4c66-ad7a-8fb203632d6c\">\n",
       "    <div class=\"colab-df-container\">\n",
       "      <div>\n",
       "<style scoped>\n",
       "    .dataframe tbody tr th:only-of-type {\n",
       "        vertical-align: middle;\n",
       "    }\n",
       "\n",
       "    .dataframe tbody tr th {\n",
       "        vertical-align: top;\n",
       "    }\n",
       "\n",
       "    .dataframe thead th {\n",
       "        text-align: right;\n",
       "    }\n",
       "</style>\n",
       "<table border=\"1\" class=\"dataframe\">\n",
       "  <thead>\n",
       "    <tr style=\"text-align: right;\">\n",
       "      <th></th>\n",
       "      <th>principal component1</th>\n",
       "      <th>principal component2</th>\n",
       "      <th>principal component3</th>\n",
       "      <th>principal component4</th>\n",
       "      <th>principal component5</th>\n",
       "      <th>principal component6</th>\n",
       "      <th>principal component7</th>\n",
       "      <th>principal component8</th>\n",
       "      <th>Exited</th>\n",
       "    </tr>\n",
       "  </thead>\n",
       "  <tbody>\n",
       "    <tr>\n",
       "      <th>0</th>\n",
       "      <td>-0.210853</td>\n",
       "      <td>0.884002</td>\n",
       "      <td>1.446764</td>\n",
       "      <td>0.278925</td>\n",
       "      <td>-0.634165</td>\n",
       "      <td>0.096706</td>\n",
       "      <td>-0.253957</td>\n",
       "      <td>-0.944001</td>\n",
       "      <td>1</td>\n",
       "    </tr>\n",
       "    <tr>\n",
       "      <th>1</th>\n",
       "      <td>-0.569838</td>\n",
       "      <td>1.195424</td>\n",
       "      <td>0.047422</td>\n",
       "      <td>0.380679</td>\n",
       "      <td>0.028651</td>\n",
       "      <td>-1.688115</td>\n",
       "      <td>-0.447760</td>\n",
       "      <td>-1.349368</td>\n",
       "      <td>0</td>\n",
       "    </tr>\n",
       "    <tr>\n",
       "      <th>2</th>\n",
       "      <td>0.869274</td>\n",
       "      <td>-1.103759</td>\n",
       "      <td>0.016253</td>\n",
       "      <td>1.523084</td>\n",
       "      <td>0.787701</td>\n",
       "      <td>0.617678</td>\n",
       "      <td>0.319225</td>\n",
       "      <td>2.904623</td>\n",
       "      <td>1</td>\n",
       "    </tr>\n",
       "    <tr>\n",
       "      <th>3</th>\n",
       "      <td>1.128893</td>\n",
       "      <td>-0.151478</td>\n",
       "      <td>1.081788</td>\n",
       "      <td>-0.534498</td>\n",
       "      <td>-0.756419</td>\n",
       "      <td>-0.618177</td>\n",
       "      <td>1.185436</td>\n",
       "      <td>0.322298</td>\n",
       "      <td>0</td>\n",
       "    </tr>\n",
       "    <tr>\n",
       "      <th>4</th>\n",
       "      <td>-1.923635</td>\n",
       "      <td>1.451394</td>\n",
       "      <td>-1.077486</td>\n",
       "      <td>-1.795071</td>\n",
       "      <td>-0.735991</td>\n",
       "      <td>-0.963920</td>\n",
       "      <td>-0.146821</td>\n",
       "      <td>0.122698</td>\n",
       "      <td>0</td>\n",
       "    </tr>\n",
       "    <tr>\n",
       "      <th>5</th>\n",
       "      <td>0.847114</td>\n",
       "      <td>-0.370761</td>\n",
       "      <td>-1.909737</td>\n",
       "      <td>0.815389</td>\n",
       "      <td>0.614184</td>\n",
       "      <td>-0.434943</td>\n",
       "      <td>0.884744</td>\n",
       "      <td>-0.210759</td>\n",
       "      <td>1</td>\n",
       "    </tr>\n",
       "    <tr>\n",
       "      <th>6</th>\n",
       "      <td>0.937177</td>\n",
       "      <td>1.788649</td>\n",
       "      <td>0.042209</td>\n",
       "      <td>-1.637323</td>\n",
       "      <td>0.347318</td>\n",
       "      <td>1.693827</td>\n",
       "      <td>0.486942</td>\n",
       "      <td>0.326536</td>\n",
       "      <td>0</td>\n",
       "    </tr>\n",
       "    <tr>\n",
       "      <th>7</th>\n",
       "      <td>3.409745</td>\n",
       "      <td>-1.006174</td>\n",
       "      <td>0.435076</td>\n",
       "      <td>2.204620</td>\n",
       "      <td>1.414215</td>\n",
       "      <td>-1.814186</td>\n",
       "      <td>-0.327603</td>\n",
       "      <td>2.408140</td>\n",
       "      <td>1</td>\n",
       "    </tr>\n",
       "    <tr>\n",
       "      <th>8</th>\n",
       "      <td>-0.565255</td>\n",
       "      <td>0.566436</td>\n",
       "      <td>1.276217</td>\n",
       "      <td>1.057400</td>\n",
       "      <td>0.478299</td>\n",
       "      <td>0.262575</td>\n",
       "      <td>-0.764268</td>\n",
       "      <td>1.755141</td>\n",
       "      <td>0</td>\n",
       "    </tr>\n",
       "    <tr>\n",
       "      <th>9</th>\n",
       "      <td>-1.303973</td>\n",
       "      <td>-0.089951</td>\n",
       "      <td>1.253032</td>\n",
       "      <td>-1.072287</td>\n",
       "      <td>-0.924581</td>\n",
       "      <td>-0.059585</td>\n",
       "      <td>-1.356978</td>\n",
       "      <td>0.445756</td>\n",
       "      <td>0</td>\n",
       "    </tr>\n",
       "  </tbody>\n",
       "</table>\n",
       "</div>\n",
       "      <button class=\"colab-df-convert\" onclick=\"convertToInteractive('df-28b57948-ec85-4c66-ad7a-8fb203632d6c')\"\n",
       "              title=\"Convert this dataframe to an interactive table.\"\n",
       "              style=\"display:none;\">\n",
       "        \n",
       "  <svg xmlns=\"http://www.w3.org/2000/svg\" height=\"24px\"viewBox=\"0 0 24 24\"\n",
       "       width=\"24px\">\n",
       "    <path d=\"M0 0h24v24H0V0z\" fill=\"none\"/>\n",
       "    <path d=\"M18.56 5.44l.94 2.06.94-2.06 2.06-.94-2.06-.94-.94-2.06-.94 2.06-2.06.94zm-11 1L8.5 8.5l.94-2.06 2.06-.94-2.06-.94L8.5 2.5l-.94 2.06-2.06.94zm10 10l.94 2.06.94-2.06 2.06-.94-2.06-.94-.94-2.06-.94 2.06-2.06.94z\"/><path d=\"M17.41 7.96l-1.37-1.37c-.4-.4-.92-.59-1.43-.59-.52 0-1.04.2-1.43.59L10.3 9.45l-7.72 7.72c-.78.78-.78 2.05 0 2.83L4 21.41c.39.39.9.59 1.41.59.51 0 1.02-.2 1.41-.59l7.78-7.78 2.81-2.81c.8-.78.8-2.07 0-2.86zM5.41 20L4 18.59l7.72-7.72 1.47 1.35L5.41 20z\"/>\n",
       "  </svg>\n",
       "      </button>\n",
       "      \n",
       "  <style>\n",
       "    .colab-df-container {\n",
       "      display:flex;\n",
       "      flex-wrap:wrap;\n",
       "      gap: 12px;\n",
       "    }\n",
       "\n",
       "    .colab-df-convert {\n",
       "      background-color: #E8F0FE;\n",
       "      border: none;\n",
       "      border-radius: 50%;\n",
       "      cursor: pointer;\n",
       "      display: none;\n",
       "      fill: #1967D2;\n",
       "      height: 32px;\n",
       "      padding: 0 0 0 0;\n",
       "      width: 32px;\n",
       "    }\n",
       "\n",
       "    .colab-df-convert:hover {\n",
       "      background-color: #E2EBFA;\n",
       "      box-shadow: 0px 1px 2px rgba(60, 64, 67, 0.3), 0px 1px 3px 1px rgba(60, 64, 67, 0.15);\n",
       "      fill: #174EA6;\n",
       "    }\n",
       "\n",
       "    [theme=dark] .colab-df-convert {\n",
       "      background-color: #3B4455;\n",
       "      fill: #D2E3FC;\n",
       "    }\n",
       "\n",
       "    [theme=dark] .colab-df-convert:hover {\n",
       "      background-color: #434B5C;\n",
       "      box-shadow: 0px 1px 3px 1px rgba(0, 0, 0, 0.15);\n",
       "      filter: drop-shadow(0px 1px 2px rgba(0, 0, 0, 0.3));\n",
       "      fill: #FFFFFF;\n",
       "    }\n",
       "  </style>\n",
       "\n",
       "      <script>\n",
       "        const buttonEl =\n",
       "          document.querySelector('#df-28b57948-ec85-4c66-ad7a-8fb203632d6c button.colab-df-convert');\n",
       "        buttonEl.style.display =\n",
       "          google.colab.kernel.accessAllowed ? 'block' : 'none';\n",
       "\n",
       "        async function convertToInteractive(key) {\n",
       "          const element = document.querySelector('#df-28b57948-ec85-4c66-ad7a-8fb203632d6c');\n",
       "          const dataTable =\n",
       "            await google.colab.kernel.invokeFunction('convertToInteractive',\n",
       "                                                     [key], {});\n",
       "          if (!dataTable) return;\n",
       "\n",
       "          const docLinkHtml = 'Like what you see? Visit the ' +\n",
       "            '<a target=\"_blank\" href=https://colab.research.google.com/notebooks/data_table.ipynb>data table notebook</a>'\n",
       "            + ' to learn more about interactive tables.';\n",
       "          element.innerHTML = '';\n",
       "          dataTable['output_type'] = 'display_data';\n",
       "          await google.colab.output.renderOutput(dataTable, element);\n",
       "          const docLink = document.createElement('div');\n",
       "          docLink.innerHTML = docLinkHtml;\n",
       "          element.appendChild(docLink);\n",
       "        }\n",
       "      </script>\n",
       "    </div>\n",
       "  </div>\n",
       "  "
      ],
      "text/plain": [
       "   principal component1  principal component2  principal component3  \\\n",
       "0             -0.210853              0.884002              1.446764   \n",
       "1             -0.569838              1.195424              0.047422   \n",
       "2              0.869274             -1.103759              0.016253   \n",
       "3              1.128893             -0.151478              1.081788   \n",
       "4             -1.923635              1.451394             -1.077486   \n",
       "5              0.847114             -0.370761             -1.909737   \n",
       "6              0.937177              1.788649              0.042209   \n",
       "7              3.409745             -1.006174              0.435076   \n",
       "8             -0.565255              0.566436              1.276217   \n",
       "9             -1.303973             -0.089951              1.253032   \n",
       "\n",
       "   principal component4  principal component5  principal component6  \\\n",
       "0              0.278925             -0.634165              0.096706   \n",
       "1              0.380679              0.028651             -1.688115   \n",
       "2              1.523084              0.787701              0.617678   \n",
       "3             -0.534498             -0.756419             -0.618177   \n",
       "4             -1.795071             -0.735991             -0.963920   \n",
       "5              0.815389              0.614184             -0.434943   \n",
       "6             -1.637323              0.347318              1.693827   \n",
       "7              2.204620              1.414215             -1.814186   \n",
       "8              1.057400              0.478299              0.262575   \n",
       "9             -1.072287             -0.924581             -0.059585   \n",
       "\n",
       "   principal component7  principal component8  Exited  \n",
       "0             -0.253957             -0.944001       1  \n",
       "1             -0.447760             -1.349368       0  \n",
       "2              0.319225              2.904623       1  \n",
       "3              1.185436              0.322298       0  \n",
       "4             -0.146821              0.122698       0  \n",
       "5              0.884744             -0.210759       1  \n",
       "6              0.486942              0.326536       0  \n",
       "7             -0.327603              2.408140       1  \n",
       "8             -0.764268              1.755141       0  \n",
       "9             -1.356978              0.445756       0  "
      ]
     },
     "execution_count": 95,
     "metadata": {},
     "output_type": "execute_result"
    }
   ],
   "source": [
    "# Feature Reduction: Dimensionality Reduction with PCA.\n",
    "import pandas as pd\n",
    "from sklearn.preprocessing import StandardScaler\n",
    "from sklearn.decomposition import PCA\n",
    "\n",
    "AttRemoved = [\"RowNumber\", \"CustomerId\", \"Surname\", \"HasCrCard\", \"Gender_Male\", \"Gender_Female\"]\n",
    "DataFrame = data_encoder\n",
    "hr_vars = DataFrame.columns.values.tolist()\n",
    "hr_vars = list(filter(lambda a: a not in AttRemoved, hr_vars))\n",
    "targets = ['Exited']\n",
    "features = [i for i in hr_vars if i not in targets]\n",
    "\n",
    "# Separating out the features\n",
    "x = DataFrame.loc[:, features].values\n",
    "# Separating out the target\n",
    "y = DataFrame.loc[:, ['Exited']].values\n",
    "# Standardizing the features\n",
    "x = StandardScaler().fit_transform(x)\n",
    "\n",
    "nSelectedFeature = len(hr_vars) - 1\n",
    "SelectedAttList = []\n",
    "for i in range(1, nSelectedFeature + 1):\n",
    "    SelectedAttList.append(\"principal component\" + str(i))\n",
    "\n",
    "\n",
    "pca = PCA(n_components=nSelectedFeature)\n",
    "principalComponents = pca.fit_transform(x)\n",
    "principalDf = pd.DataFrame(data=principalComponents, columns=SelectedAttList)\n",
    "PCAdf = pd.concat([principalDf, DataFrame[targets]], axis=1)\n",
    "PCAdf = PCAdf.dropna()\n",
    "PCAdata = PCAdf\n",
    "\n",
    "PCAdata.head(10)"
   ]
  },
  {
   "cell_type": "code",
   "execution_count": 96,
   "metadata": {
    "_uuid": "429dafdd4ba4927b738322fa57af4308f29732f1",
    "colab": {
     "base_uri": "https://localhost:8080/"
    },
    "id": "InZlVAEcZHT4",
    "inputHidden": false,
    "outputHidden": false,
    "outputId": "7628a3db-af50-4977-80fe-e7c2f7b30170"
   },
   "outputs": [
    {
     "name": "stdout",
     "output_type": "stream",
     "text": [
      "Train rows and columns :  (6000, 8)\n",
      "Test rows and columns :  (4000, 8)\n"
     ]
    }
   ],
   "source": [
    "PCAdata_train, PCAtarget_train, PCAdata_test, PCAtarget_test = SplitDataFrameToTrainAndTest(PCAdata, 0.6, 'Exited')\n",
    "PrintTrainTestInformation(PCAdata_train, PCAtarget_train, PCAdata_test, PCAtarget_test)"
   ]
  },
  {
   "cell_type": "code",
   "execution_count": 97,
   "metadata": {
    "_uuid": "580b7ddb378efad0d53ce91355db502f6cfb6799",
    "colab": {
     "base_uri": "https://localhost:8080/"
    },
    "id": "ygmgwfobZHT7",
    "inputHidden": false,
    "outputHidden": false,
    "outputId": "7351b660-2bc2-48a2-9429-e7142be4d7c5"
   },
   "outputs": [
    {
     "name": "stdout",
     "output_type": "stream",
     "text": [
      "Naive Bayes accuracy: 0.827\n",
      "Logistic Regression accuracy: 0.802\n",
      "Random Forest accuracy: 0.845250\n",
      "Linear SVM accuracy: 0.853250\n",
      "RBF SVM accuracy: 0.810500\n",
      "K Nearest Neighbor accuracy: 0.817500\n",
      "ANN accuracy: 0.851500\n"
     ]
    }
   ],
   "source": [
    "# Retest all traditional classification approaches\n",
    "X_train = PCAdata_train\n",
    "y_train = PCAtarget_train\n",
    "X_test = PCAdata_test\n",
    "y_test = PCAtarget_test\n",
    "\n",
    "MachineLearningModelEvaluate(X_train, y_train, X_test, y_test)"
   ]
  },
  {
   "cell_type": "code",
   "execution_count": 98,
   "metadata": {
    "_uuid": "69516401a4b0c19c942cbde0a092bf575de196d4",
    "colab": {
     "base_uri": "https://localhost:8080/",
     "height": 281
    },
    "id": "2dsVQfMPZHT9",
    "inputHidden": false,
    "outputHidden": false,
    "outputId": "1657553d-f4b8-4fa2-8891-1c4b46decac7"
   },
   "outputs": [
    {
     "data": {
      "image/png": "[encoded data removed]",
      "text/plain": [
       "<Figure size 432x288 with 1 Axes>"
      ]
     },
     "metadata": {
      "needs_background": "light"
     },
     "output_type": "display_data"
    }
   ],
   "source": [
    "import matplotlib.pyplot as plt\n",
    "\n",
    "cum_explained_var = []\n",
    "for i in range(0, len(pca.explained_variance_ratio_)):\n",
    "    if i == 0:\n",
    "        cum_explained_var.append(pca.explained_variance_ratio_[i])\n",
    "    else:\n",
    "        cum_explained_var.append(pca.explained_variance_ratio_[i] +\n",
    "                                 cum_explained_var[i - 1])\n",
    "\n",
    "x_val = range(1, len(cum_explained_var) + 1)\n",
    "y_val = cum_explained_var\n",
    "\n",
    "fig = plt.figure()\n",
    "plt.plot(x_val, y_val)\n",
    "plt.plot(x_val, y_val, 'or')\n",
    "plt.title(\"PCA Accumulative Explained Variance\")\n",
    "plt.xticks(range(1, len(cum_explained_var) + 1))\n",
    "plt.grid(True)\n",
    "plt.show()"
   ]
  },
  {
   "cell_type": "code",
   "execution_count": 99,
   "metadata": {
    "_uuid": "c409602c859a57843cf7286cf0f17bc5b8ff36f0",
    "colab": {
     "base_uri": "https://localhost:8080/"
    },
    "id": "HzjhuHy_ZHUB",
    "inputHidden": false,
    "outputHidden": false,
    "outputId": "d9b6bd3d-d220-4a85-aa25-132b324633a9"
   },
   "outputs": [
    {
     "name": "stdout",
     "output_type": "stream",
     "text": [
      "['principal component1', 'principal component2', 'principal component3', 'principal component4', 'principal component5', 'principal component6', 'principal component7', 'principal component8', 'Exited']\n",
      "Train rows and columns :  (6000, 8)\n",
      "Test rows and columns :  (4000, 8)\n"
     ]
    }
   ],
   "source": [
    "AttSelection = PCAdata.columns.values.tolist()\n",
    "AttSelection = AttSelection[:15]\n",
    "if AttSelection[len(AttSelection)-1] != 'Exited' :\n",
    "    AttSelection = AttSelection + ['Exited']\n",
    "print(AttSelection)\n",
    "\n",
    "PCAdata_train_feReduction, PCAtarget_train_feReduction, PCAdata_test_feReduction, PCAtarget_test_feReduction = SplitDataFrameToTrainAndTest(PCAdata[AttSelection], 0.6, 'Exited')\n",
    "PrintTrainTestInformation(PCAdata_train_feReduction, PCAtarget_train_feReduction, PCAdata_test_feReduction, PCAtarget_test_feReduction)"
   ]
  },
  {
   "cell_type": "code",
   "execution_count": 100,
   "metadata": {
    "_uuid": "c054721b483cac35a0ba29ac78557bd24c955116",
    "colab": {
     "base_uri": "https://localhost:8080/"
    },
    "id": "ZCrtnI8KZHUC",
    "inputHidden": false,
    "outputHidden": false,
    "outputId": "ec4c4d4e-4473-4205-e8d9-7d917583b5ca"
   },
   "outputs": [
    {
     "name": "stdout",
     "output_type": "stream",
     "text": [
      "Naive Bayes accuracy: 0.827\n",
      "Logistic Regression accuracy: 0.802\n",
      "Random Forest accuracy: 0.845750\n",
      "Linear SVM accuracy: 0.853250\n",
      "RBF SVM accuracy: 0.810500\n",
      "K Nearest Neighbor accuracy: 0.817500\n",
      "ANN accuracy: 0.850000\n"
     ]
    }
   ],
   "source": [
    "# Retest all traditional classification approaches\n",
    "X_train = PCAdata_train_feReduction\n",
    "y_train = PCAtarget_train_feReduction\n",
    "X_test = PCAdata_test_feReduction\n",
    "y_test = PCAtarget_test_feReduction\n",
    "\n",
    "MachineLearningModelEvaluate(X_train, y_train, X_test, y_test)"
   ]
  }
 ],
 "metadata": {
  "colab": {
   "collapsed_sections": [
    "Z2_MjKv0ZHTD"
   ],
   "provenance": []
  },
  "kernelspec": {
   "display_name": "Python 3 (ipykernel)",
   "language": "python",
   "name": "python3"
  },
  "language_info": {
   "codemirror_mode": {
    "name": "ipython",
    "version": 3
   },
   "file_extension": ".py",
   "mimetype": "text/x-python",
   "name": "python",
   "nbconvert_exporter": "python",
   "pygments_lexer": "ipython3",
   "version": "3.9.13"
  }
 },
 "nbformat": 4,
 "nbformat_minor": 1
}
